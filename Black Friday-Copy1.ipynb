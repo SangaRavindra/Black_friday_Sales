{
 "cells": [
  {
   "cell_type": "markdown",
   "id": "573f8689",
   "metadata": {},
   "source": [
    "A retail company “ABC Private Limited” wants to understand the customer purchase behaviour (specifically, purchase amount) against various products of different categories. They have shared purchase summary of various customers for selected high volume products from last month.\n",
    "The data set also contains customer demographics (age, gender, marital status, city_type, stay_in_current_city), product details (product_id and product category) and Total purchase_amount from last month.\n",
    "\n",
    "Now, they want to build a model to predict the purchase amount of customer against various products which will help them to create personalized offer for customers against different products."
   ]
  },
  {
   "cell_type": "markdown",
   "id": "c27f0176",
   "metadata": {},
   "source": [
    "Data"
   ]
  },
  {
   "cell_type": "markdown",
   "id": "86f88f21",
   "metadata": {},
   "source": [
    "|Variable|\tDefinition|\n",
    "|:-------:|:-------:\n",
    "|User_ID\t|User ID|\n",
    "|Product_ID |\tProduct ID|\n",
    "|Gender|\tSex of User|\n",
    "|Age|\tAge in bins|\n",
    "|Occupation|\tOccupation (Masked)|\n",
    "|City_Category|\tCategory of the City (A,B,C)|\n",
    "|Stay_In_Current_City_Years|\tNumber of years stay in current city|\n",
    "|Marital_Status\t|Marital Status|\n",
    "|Product_Category_1\t|Product Category (Masked)|\n",
    "|Product_Category_2|\tProduct may belongs to other category also (Masked)|\n",
    "|Product_Category_3|\tProduct may belongs to other category also (Masked)|\n",
    "|Purchase\t|Purchase Amount (Target Variable)|"
   ]
  },
  {
   "cell_type": "code",
   "execution_count": 3,
   "id": "e7992e58",
   "metadata": {},
   "outputs": [],
   "source": [
    "import io\n",
    "import os\n",
    "import pandas as pd\n",
    "import numpy as np\n",
    "import matplotlib.pyplot as plt\n",
    "import seaborn as sns"
   ]
  },
  {
   "cell_type": "code",
   "execution_count": 4,
   "id": "719ec691",
   "metadata": {},
   "outputs": [
    {
     "name": "stdout",
     "output_type": "stream",
     "text": [
      "H:\\Data Science Projects\\Black_friday\n"
     ]
    }
   ],
   "source": [
    "%cd \"H:\\Data Science Projects\\Black_friday\""
   ]
  },
  {
   "cell_type": "markdown",
   "id": "1b2cc17f",
   "metadata": {},
   "source": [
    "    -> Train file is complete data including dependent variable(y)\n",
    "\n",
    "    -> Test file will not have dependent variable(y) which needs to be predicted using model built on train data sample     submission file is where predictions are copied for uploading into competition site for checking the result and accuracy"
   ]
  },
  {
   "cell_type": "markdown",
   "id": "e4726c59",
   "metadata": {},
   "source": [
    "## Data Preprocessing & Exploratory Data Analysis"
   ]
  },
  {
   "cell_type": "code",
   "execution_count": 5,
   "id": "9affb5cc",
   "metadata": {},
   "outputs": [],
   "source": [
    "bftrain=pd.read_csv('train.csv') # Importing train file"
   ]
  },
  {
   "cell_type": "code",
   "execution_count": 6,
   "id": "8896970f",
   "metadata": {},
   "outputs": [],
   "source": [
    "bftest=pd.read_csv('test.csv') # Importing test file"
   ]
  },
  {
   "cell_type": "code",
   "execution_count": 7,
   "id": "4822c967",
   "metadata": {},
   "outputs": [
    {
     "data": {
      "text/html": [
       "<div>\n",
       "<style scoped>\n",
       "    .dataframe tbody tr th:only-of-type {\n",
       "        vertical-align: middle;\n",
       "    }\n",
       "\n",
       "    .dataframe tbody tr th {\n",
       "        vertical-align: top;\n",
       "    }\n",
       "\n",
       "    .dataframe thead th {\n",
       "        text-align: right;\n",
       "    }\n",
       "</style>\n",
       "<table border=\"1\" class=\"dataframe\">\n",
       "  <thead>\n",
       "    <tr style=\"text-align: right;\">\n",
       "      <th></th>\n",
       "      <th>User_ID</th>\n",
       "      <th>Product_ID</th>\n",
       "      <th>Gender</th>\n",
       "      <th>Age</th>\n",
       "      <th>Occupation</th>\n",
       "      <th>City_Category</th>\n",
       "      <th>Stay_In_Current_City_Years</th>\n",
       "      <th>Marital_Status</th>\n",
       "      <th>Product_Category_1</th>\n",
       "      <th>Product_Category_2</th>\n",
       "      <th>Product_Category_3</th>\n",
       "      <th>Purchase</th>\n",
       "    </tr>\n",
       "  </thead>\n",
       "  <tbody>\n",
       "    <tr>\n",
       "      <th>0</th>\n",
       "      <td>1000001</td>\n",
       "      <td>P00069042</td>\n",
       "      <td>F</td>\n",
       "      <td>0-17</td>\n",
       "      <td>10</td>\n",
       "      <td>A</td>\n",
       "      <td>2</td>\n",
       "      <td>0</td>\n",
       "      <td>3</td>\n",
       "      <td>NaN</td>\n",
       "      <td>NaN</td>\n",
       "      <td>8370</td>\n",
       "    </tr>\n",
       "    <tr>\n",
       "      <th>1</th>\n",
       "      <td>1000001</td>\n",
       "      <td>P00248942</td>\n",
       "      <td>F</td>\n",
       "      <td>0-17</td>\n",
       "      <td>10</td>\n",
       "      <td>A</td>\n",
       "      <td>2</td>\n",
       "      <td>0</td>\n",
       "      <td>1</td>\n",
       "      <td>6.0</td>\n",
       "      <td>14.0</td>\n",
       "      <td>15200</td>\n",
       "    </tr>\n",
       "    <tr>\n",
       "      <th>2</th>\n",
       "      <td>1000001</td>\n",
       "      <td>P00087842</td>\n",
       "      <td>F</td>\n",
       "      <td>0-17</td>\n",
       "      <td>10</td>\n",
       "      <td>A</td>\n",
       "      <td>2</td>\n",
       "      <td>0</td>\n",
       "      <td>12</td>\n",
       "      <td>NaN</td>\n",
       "      <td>NaN</td>\n",
       "      <td>1422</td>\n",
       "    </tr>\n",
       "    <tr>\n",
       "      <th>3</th>\n",
       "      <td>1000001</td>\n",
       "      <td>P00085442</td>\n",
       "      <td>F</td>\n",
       "      <td>0-17</td>\n",
       "      <td>10</td>\n",
       "      <td>A</td>\n",
       "      <td>2</td>\n",
       "      <td>0</td>\n",
       "      <td>12</td>\n",
       "      <td>14.0</td>\n",
       "      <td>NaN</td>\n",
       "      <td>1057</td>\n",
       "    </tr>\n",
       "    <tr>\n",
       "      <th>4</th>\n",
       "      <td>1000002</td>\n",
       "      <td>P00285442</td>\n",
       "      <td>M</td>\n",
       "      <td>55+</td>\n",
       "      <td>16</td>\n",
       "      <td>C</td>\n",
       "      <td>4+</td>\n",
       "      <td>0</td>\n",
       "      <td>8</td>\n",
       "      <td>NaN</td>\n",
       "      <td>NaN</td>\n",
       "      <td>7969</td>\n",
       "    </tr>\n",
       "  </tbody>\n",
       "</table>\n",
       "</div>"
      ],
      "text/plain": [
       "   User_ID Product_ID Gender   Age  Occupation City_Category  \\\n",
       "0  1000001  P00069042      F  0-17          10             A   \n",
       "1  1000001  P00248942      F  0-17          10             A   \n",
       "2  1000001  P00087842      F  0-17          10             A   \n",
       "3  1000001  P00085442      F  0-17          10             A   \n",
       "4  1000002  P00285442      M   55+          16             C   \n",
       "\n",
       "  Stay_In_Current_City_Years  Marital_Status  Product_Category_1  \\\n",
       "0                          2               0                   3   \n",
       "1                          2               0                   1   \n",
       "2                          2               0                  12   \n",
       "3                          2               0                  12   \n",
       "4                         4+               0                   8   \n",
       "\n",
       "   Product_Category_2  Product_Category_3  Purchase  \n",
       "0                 NaN                 NaN      8370  \n",
       "1                 6.0                14.0     15200  \n",
       "2                 NaN                 NaN      1422  \n",
       "3                14.0                 NaN      1057  \n",
       "4                 NaN                 NaN      7969  "
      ]
     },
     "execution_count": 7,
     "metadata": {},
     "output_type": "execute_result"
    }
   ],
   "source": [
    "bftrain.head()"
   ]
  },
  {
   "cell_type": "code",
   "execution_count": 8,
   "id": "02c05edc",
   "metadata": {},
   "outputs": [
    {
     "data": {
      "text/html": [
       "<div>\n",
       "<style scoped>\n",
       "    .dataframe tbody tr th:only-of-type {\n",
       "        vertical-align: middle;\n",
       "    }\n",
       "\n",
       "    .dataframe tbody tr th {\n",
       "        vertical-align: top;\n",
       "    }\n",
       "\n",
       "    .dataframe thead th {\n",
       "        text-align: right;\n",
       "    }\n",
       "</style>\n",
       "<table border=\"1\" class=\"dataframe\">\n",
       "  <thead>\n",
       "    <tr style=\"text-align: right;\">\n",
       "      <th></th>\n",
       "      <th>User_ID</th>\n",
       "      <th>Occupation</th>\n",
       "      <th>Marital_Status</th>\n",
       "      <th>Product_Category_1</th>\n",
       "      <th>Product_Category_2</th>\n",
       "      <th>Product_Category_3</th>\n",
       "      <th>Purchase</th>\n",
       "    </tr>\n",
       "  </thead>\n",
       "  <tbody>\n",
       "    <tr>\n",
       "      <th>count</th>\n",
       "      <td>5.500680e+05</td>\n",
       "      <td>550068.000000</td>\n",
       "      <td>550068.000000</td>\n",
       "      <td>550068.000000</td>\n",
       "      <td>376430.000000</td>\n",
       "      <td>166821.000000</td>\n",
       "      <td>550068.000000</td>\n",
       "    </tr>\n",
       "    <tr>\n",
       "      <th>mean</th>\n",
       "      <td>1.003029e+06</td>\n",
       "      <td>8.076707</td>\n",
       "      <td>0.409653</td>\n",
       "      <td>5.404270</td>\n",
       "      <td>9.842329</td>\n",
       "      <td>12.668243</td>\n",
       "      <td>9263.968713</td>\n",
       "    </tr>\n",
       "    <tr>\n",
       "      <th>std</th>\n",
       "      <td>1.727592e+03</td>\n",
       "      <td>6.522660</td>\n",
       "      <td>0.491770</td>\n",
       "      <td>3.936211</td>\n",
       "      <td>5.086590</td>\n",
       "      <td>4.125338</td>\n",
       "      <td>5023.065394</td>\n",
       "    </tr>\n",
       "    <tr>\n",
       "      <th>min</th>\n",
       "      <td>1.000001e+06</td>\n",
       "      <td>0.000000</td>\n",
       "      <td>0.000000</td>\n",
       "      <td>1.000000</td>\n",
       "      <td>2.000000</td>\n",
       "      <td>3.000000</td>\n",
       "      <td>12.000000</td>\n",
       "    </tr>\n",
       "    <tr>\n",
       "      <th>25%</th>\n",
       "      <td>1.001516e+06</td>\n",
       "      <td>2.000000</td>\n",
       "      <td>0.000000</td>\n",
       "      <td>1.000000</td>\n",
       "      <td>5.000000</td>\n",
       "      <td>9.000000</td>\n",
       "      <td>5823.000000</td>\n",
       "    </tr>\n",
       "    <tr>\n",
       "      <th>50%</th>\n",
       "      <td>1.003077e+06</td>\n",
       "      <td>7.000000</td>\n",
       "      <td>0.000000</td>\n",
       "      <td>5.000000</td>\n",
       "      <td>9.000000</td>\n",
       "      <td>14.000000</td>\n",
       "      <td>8047.000000</td>\n",
       "    </tr>\n",
       "    <tr>\n",
       "      <th>75%</th>\n",
       "      <td>1.004478e+06</td>\n",
       "      <td>14.000000</td>\n",
       "      <td>1.000000</td>\n",
       "      <td>8.000000</td>\n",
       "      <td>15.000000</td>\n",
       "      <td>16.000000</td>\n",
       "      <td>12054.000000</td>\n",
       "    </tr>\n",
       "    <tr>\n",
       "      <th>max</th>\n",
       "      <td>1.006040e+06</td>\n",
       "      <td>20.000000</td>\n",
       "      <td>1.000000</td>\n",
       "      <td>20.000000</td>\n",
       "      <td>18.000000</td>\n",
       "      <td>18.000000</td>\n",
       "      <td>23961.000000</td>\n",
       "    </tr>\n",
       "  </tbody>\n",
       "</table>\n",
       "</div>"
      ],
      "text/plain": [
       "            User_ID     Occupation  Marital_Status  Product_Category_1  \\\n",
       "count  5.500680e+05  550068.000000   550068.000000       550068.000000   \n",
       "mean   1.003029e+06       8.076707        0.409653            5.404270   \n",
       "std    1.727592e+03       6.522660        0.491770            3.936211   \n",
       "min    1.000001e+06       0.000000        0.000000            1.000000   \n",
       "25%    1.001516e+06       2.000000        0.000000            1.000000   \n",
       "50%    1.003077e+06       7.000000        0.000000            5.000000   \n",
       "75%    1.004478e+06      14.000000        1.000000            8.000000   \n",
       "max    1.006040e+06      20.000000        1.000000           20.000000   \n",
       "\n",
       "       Product_Category_2  Product_Category_3       Purchase  \n",
       "count       376430.000000       166821.000000  550068.000000  \n",
       "mean             9.842329           12.668243    9263.968713  \n",
       "std              5.086590            4.125338    5023.065394  \n",
       "min              2.000000            3.000000      12.000000  \n",
       "25%              5.000000            9.000000    5823.000000  \n",
       "50%              9.000000           14.000000    8047.000000  \n",
       "75%             15.000000           16.000000   12054.000000  \n",
       "max             18.000000           18.000000   23961.000000  "
      ]
     },
     "execution_count": 8,
     "metadata": {},
     "output_type": "execute_result"
    }
   ],
   "source": [
    "bftrain.describe()"
   ]
  },
  {
   "cell_type": "code",
   "execution_count": 9,
   "id": "5a93591c",
   "metadata": {},
   "outputs": [
    {
     "name": "stdout",
     "output_type": "stream",
     "text": [
      "<class 'pandas.core.frame.DataFrame'>\n",
      "RangeIndex: 550068 entries, 0 to 550067\n",
      "Data columns (total 12 columns):\n",
      " #   Column                      Non-Null Count   Dtype  \n",
      "---  ------                      --------------   -----  \n",
      " 0   User_ID                     550068 non-null  int64  \n",
      " 1   Product_ID                  550068 non-null  object \n",
      " 2   Gender                      550068 non-null  object \n",
      " 3   Age                         550068 non-null  object \n",
      " 4   Occupation                  550068 non-null  int64  \n",
      " 5   City_Category               550068 non-null  object \n",
      " 6   Stay_In_Current_City_Years  550068 non-null  object \n",
      " 7   Marital_Status              550068 non-null  int64  \n",
      " 8   Product_Category_1          550068 non-null  int64  \n",
      " 9   Product_Category_2          376430 non-null  float64\n",
      " 10  Product_Category_3          166821 non-null  float64\n",
      " 11  Purchase                    550068 non-null  int64  \n",
      "dtypes: float64(2), int64(5), object(5)\n",
      "memory usage: 50.4+ MB\n"
     ]
    }
   ],
   "source": [
    "bftrain.info()"
   ]
  },
  {
   "cell_type": "code",
   "execution_count": 10,
   "id": "e4d82dbb",
   "metadata": {},
   "outputs": [
    {
     "name": "stdout",
     "output_type": "stream",
     "text": [
      "<class 'pandas.core.frame.DataFrame'>\n",
      "RangeIndex: 233599 entries, 0 to 233598\n",
      "Data columns (total 11 columns):\n",
      " #   Column                      Non-Null Count   Dtype  \n",
      "---  ------                      --------------   -----  \n",
      " 0   User_ID                     233599 non-null  int64  \n",
      " 1   Product_ID                  233599 non-null  object \n",
      " 2   Gender                      233599 non-null  object \n",
      " 3   Age                         233599 non-null  object \n",
      " 4   Occupation                  233599 non-null  int64  \n",
      " 5   City_Category               233599 non-null  object \n",
      " 6   Stay_In_Current_City_Years  233599 non-null  object \n",
      " 7   Marital_Status              233599 non-null  int64  \n",
      " 8   Product_Category_1          233599 non-null  int64  \n",
      " 9   Product_Category_2          161255 non-null  float64\n",
      " 10  Product_Category_3          71037 non-null   float64\n",
      "dtypes: float64(2), int64(4), object(5)\n",
      "memory usage: 19.6+ MB\n"
     ]
    }
   ],
   "source": [
    "bftest.info()"
   ]
  },
  {
   "cell_type": "code",
   "execution_count": 11,
   "id": "e8a57732",
   "metadata": {},
   "outputs": [
    {
     "data": {
      "text/plain": [
       "User_ID                        0.000000\n",
       "Product_ID                     0.000000\n",
       "Gender                         0.000000\n",
       "Age                            0.000000\n",
       "Occupation                     0.000000\n",
       "City_Category                  0.000000\n",
       "Stay_In_Current_City_Years     0.000000\n",
       "Marital_Status                 0.000000\n",
       "Product_Category_1             0.000000\n",
       "Product_Category_2            31.566643\n",
       "Product_Category_3            69.672659\n",
       "Purchase                       0.000000\n",
       "dtype: float64"
      ]
     },
     "execution_count": 11,
     "metadata": {},
     "output_type": "execute_result"
    }
   ],
   "source": [
    "(bftrain.isnull().sum() / len(bftrain)) * 100 #Checking for null values percentage."
   ]
  },
  {
   "cell_type": "code",
   "execution_count": 12,
   "id": "0285862a",
   "metadata": {},
   "outputs": [
    {
     "data": {
      "text/plain": [
       "User_ID                        0.000000\n",
       "Product_ID                     0.000000\n",
       "Gender                         0.000000\n",
       "Age                            0.000000\n",
       "Occupation                     0.000000\n",
       "City_Category                  0.000000\n",
       "Stay_In_Current_City_Years     0.000000\n",
       "Marital_Status                 0.000000\n",
       "Product_Category_1             0.000000\n",
       "Product_Category_2            30.969311\n",
       "Product_Category_3            69.590195\n",
       "dtype: float64"
      ]
     },
     "execution_count": 12,
     "metadata": {},
     "output_type": "execute_result"
    }
   ],
   "source": [
    "(bftest.isnull().sum() / len(bftest)) * 100 #Checking for null values percentage."
   ]
  },
  {
   "cell_type": "markdown",
   "id": "d95e473c",
   "metadata": {},
   "source": [
    "    -> The train and test dataset have some missing values that need to be filled.\n",
    "\n",
    "    -> We will concatenate the test and train dataframes for data preprocessing, which requires the same number and order of variables in both dataframes.\n",
    "\n",
    "    -> Therefore, we will temporarily add a dependent variable to the test data for preprocessing purposes."
   ]
  },
  {
   "cell_type": "code",
   "execution_count": 13,
   "id": "7f26b486",
   "metadata": {},
   "outputs": [],
   "source": [
    "#Temporarly add dependent variable to test data for preprocessing\n",
    "bftest['Purchase']='test'"
   ]
  },
  {
   "cell_type": "code",
   "execution_count": 14,
   "id": "e1f59885",
   "metadata": {},
   "outputs": [],
   "source": [
    "# Combine Both Dataframes for preprocessing\n",
    "\n",
    "# For Concatenation of 2 dataframes the number of variables and squence of variables must be same.\n",
    "\n",
    "combinedf=pd.concat([bftrain,bftest],axis=0)"
   ]
  },
  {
   "cell_type": "code",
   "execution_count": 15,
   "id": "ca744594",
   "metadata": {},
   "outputs": [
    {
     "name": "stdout",
     "output_type": "stream",
     "text": [
      "<class 'pandas.core.frame.DataFrame'>\n",
      "Int64Index: 783667 entries, 0 to 233598\n",
      "Data columns (total 12 columns):\n",
      " #   Column                      Non-Null Count   Dtype  \n",
      "---  ------                      --------------   -----  \n",
      " 0   User_ID                     783667 non-null  int64  \n",
      " 1   Product_ID                  783667 non-null  object \n",
      " 2   Gender                      783667 non-null  object \n",
      " 3   Age                         783667 non-null  object \n",
      " 4   Occupation                  783667 non-null  int64  \n",
      " 5   City_Category               783667 non-null  object \n",
      " 6   Stay_In_Current_City_Years  783667 non-null  object \n",
      " 7   Marital_Status              783667 non-null  int64  \n",
      " 8   Product_Category_1          783667 non-null  int64  \n",
      " 9   Product_Category_2          537685 non-null  float64\n",
      " 10  Product_Category_3          237858 non-null  float64\n",
      " 11  Purchase                    783667 non-null  object \n",
      "dtypes: float64(2), int64(4), object(6)\n",
      "memory usage: 77.7+ MB\n"
     ]
    }
   ],
   "source": [
    "combinedf.info()"
   ]
  },
  {
   "cell_type": "code",
   "execution_count": 16,
   "id": "8b0b1e45",
   "metadata": {},
   "outputs": [
    {
     "data": {
      "text/plain": [
       "User_ID                            0\n",
       "Product_ID                         0\n",
       "Gender                             0\n",
       "Age                                0\n",
       "Occupation                         0\n",
       "City_Category                      0\n",
       "Stay_In_Current_City_Years         0\n",
       "Marital_Status                     0\n",
       "Product_Category_1                 0\n",
       "Product_Category_2            245982\n",
       "Product_Category_3            545809\n",
       "Purchase                           0\n",
       "dtype: int64"
      ]
     },
     "execution_count": 16,
     "metadata": {},
     "output_type": "execute_result"
    }
   ],
   "source": [
    "combinedf.isnull().sum()# The total number of missing values in the dataset for each variable"
   ]
  },
  {
   "cell_type": "markdown",
   "id": "53fc5013",
   "metadata": {},
   "source": [
    "### Imputing the missing values."
   ]
  },
  {
   "cell_type": "code",
   "execution_count": 17,
   "id": "5f615e2b",
   "metadata": {},
   "outputs": [
    {
     "data": {
      "text/plain": [
       "NaN     245982\n",
       "8.0      91317\n",
       "14.0     78834\n",
       "2.0      70498\n",
       "16.0     61687\n",
       "15.0     54114\n",
       "5.0      37165\n",
       "4.0      36705\n",
       "6.0      23575\n",
       "11.0     20230\n",
       "17.0     19104\n",
       "13.0     15054\n",
       "9.0       8177\n",
       "12.0      7801\n",
       "10.0      4420\n",
       "3.0       4123\n",
       "18.0      4027\n",
       "7.0        854\n",
       "Name: Product_Category_2, dtype: int64"
      ]
     },
     "execution_count": 17,
     "metadata": {},
     "output_type": "execute_result"
    }
   ],
   "source": [
    "combinedf.Product_Category_2.value_counts(dropna=False)"
   ]
  },
  {
   "cell_type": "code",
   "execution_count": 18,
   "id": "e69bd6af",
   "metadata": {},
   "outputs": [],
   "source": [
    "combinedf.Product_Category_2=combinedf.Product_Category_2.fillna('0')"
   ]
  },
  {
   "cell_type": "code",
   "execution_count": 19,
   "id": "6bb45ab3",
   "metadata": {},
   "outputs": [
    {
     "data": {
      "text/plain": [
       "0       245982\n",
       "8.0      91317\n",
       "14.0     78834\n",
       "2.0      70498\n",
       "16.0     61687\n",
       "15.0     54114\n",
       "5.0      37165\n",
       "4.0      36705\n",
       "6.0      23575\n",
       "11.0     20230\n",
       "17.0     19104\n",
       "13.0     15054\n",
       "9.0       8177\n",
       "12.0      7801\n",
       "10.0      4420\n",
       "3.0       4123\n",
       "18.0      4027\n",
       "7.0        854\n",
       "Name: Product_Category_2, dtype: int64"
      ]
     },
     "execution_count": 19,
     "metadata": {},
     "output_type": "execute_result"
    }
   ],
   "source": [
    "combinedf.Product_Category_2.value_counts(dropna=False)"
   ]
  },
  {
   "cell_type": "code",
   "execution_count": 20,
   "id": "2c193804",
   "metadata": {},
   "outputs": [
    {
     "data": {
      "text/plain": [
       "NaN     545809\n",
       "16.0     46469\n",
       "15.0     39968\n",
       "14.0     26283\n",
       "17.0     23818\n",
       "5.0      23799\n",
       "8.0      17861\n",
       "9.0      16532\n",
       "12.0     13115\n",
       "13.0      7849\n",
       "6.0       6888\n",
       "18.0      6621\n",
       "4.0       2691\n",
       "11.0      2585\n",
       "10.0      2501\n",
       "3.0        878\n",
       "Name: Product_Category_3, dtype: int64"
      ]
     },
     "execution_count": 20,
     "metadata": {},
     "output_type": "execute_result"
    }
   ],
   "source": [
    "combinedf.Product_Category_3.value_counts(dropna=False)"
   ]
  },
  {
   "cell_type": "code",
   "execution_count": 21,
   "id": "4c050198",
   "metadata": {},
   "outputs": [],
   "source": [
    "combinedf.Product_Category_3=combinedf.Product_Category_3.fillna('0')"
   ]
  },
  {
   "cell_type": "code",
   "execution_count": 22,
   "id": "4f4bf00b",
   "metadata": {},
   "outputs": [
    {
     "data": {
      "text/plain": [
       "0       545809\n",
       "16.0     46469\n",
       "15.0     39968\n",
       "14.0     26283\n",
       "17.0     23818\n",
       "5.0      23799\n",
       "8.0      17861\n",
       "9.0      16532\n",
       "12.0     13115\n",
       "13.0      7849\n",
       "6.0       6888\n",
       "18.0      6621\n",
       "4.0       2691\n",
       "11.0      2585\n",
       "10.0      2501\n",
       "3.0        878\n",
       "Name: Product_Category_3, dtype: int64"
      ]
     },
     "execution_count": 22,
     "metadata": {},
     "output_type": "execute_result"
    }
   ],
   "source": [
    "combinedf.Product_Category_3.value_counts(dropna=False)"
   ]
  },
  {
   "cell_type": "code",
   "execution_count": 23,
   "id": "99a66752",
   "metadata": {},
   "outputs": [
    {
     "name": "stdout",
     "output_type": "stream",
     "text": [
      "<class 'pandas.core.frame.DataFrame'>\n",
      "Int64Index: 783667 entries, 0 to 233598\n",
      "Data columns (total 12 columns):\n",
      " #   Column                      Non-Null Count   Dtype \n",
      "---  ------                      --------------   ----- \n",
      " 0   User_ID                     783667 non-null  int64 \n",
      " 1   Product_ID                  783667 non-null  object\n",
      " 2   Gender                      783667 non-null  object\n",
      " 3   Age                         783667 non-null  object\n",
      " 4   Occupation                  783667 non-null  int64 \n",
      " 5   City_Category               783667 non-null  object\n",
      " 6   Stay_In_Current_City_Years  783667 non-null  object\n",
      " 7   Marital_Status              783667 non-null  int64 \n",
      " 8   Product_Category_1          783667 non-null  int64 \n",
      " 9   Product_Category_2          783667 non-null  object\n",
      " 10  Product_Category_3          783667 non-null  object\n",
      " 11  Purchase                    783667 non-null  object\n",
      "dtypes: int64(4), object(8)\n",
      "memory usage: 77.7+ MB\n"
     ]
    }
   ],
   "source": [
    "combinedf.info() #No more missing values."
   ]
  },
  {
   "cell_type": "code",
   "execution_count": 24,
   "id": "c0c46cd4",
   "metadata": {},
   "outputs": [],
   "source": [
    "#droping the User_ID & Product_ID as these are unique variables.\n",
    "\n",
    "combinedf=combinedf.drop(['User_ID','Product_ID'],axis=1)"
   ]
  },
  {
   "cell_type": "code",
   "execution_count": 25,
   "id": "e8c49119",
   "metadata": {},
   "outputs": [
    {
     "data": {
      "text/plain": [
       "8       2189\n",
       "9       8929\n",
       "18      9367\n",
       "13     11053\n",
       "19     11919\n",
       "11     16593\n",
       "15     17356\n",
       "5      17373\n",
       "10     18304\n",
       "3      25126\n",
       "6      29102\n",
       "16     36122\n",
       "2      37996\n",
       "14     38782\n",
       "12     44448\n",
       "20     47840\n",
       "17     57418\n",
       "1      67687\n",
       "7      84127\n",
       "0      98850\n",
       "4     103086\n",
       "Name: Occupation, dtype: int64"
      ]
     },
     "execution_count": 25,
     "metadata": {},
     "output_type": "execute_result"
    }
   ],
   "source": [
    "combinedf.Occupation.value_counts().sort_values()"
   ]
  },
  {
   "cell_type": "code",
   "execution_count": 26,
   "id": "0fe22029",
   "metadata": {},
   "outputs": [
    {
     "data": {
      "text/plain": [
       "1    321129\n",
       "0    462538\n",
       "Name: Marital_Status, dtype: int64"
      ]
     },
     "execution_count": 26,
     "metadata": {},
     "output_type": "execute_result"
    }
   ],
   "source": [
    "combinedf.Marital_Status.value_counts().sort_values()"
   ]
  },
  {
   "cell_type": "code",
   "execution_count": 27,
   "id": "783bcdda",
   "metadata": {},
   "outputs": [
    {
     "data": {
      "text/plain": [
       "5     215950\n",
       "1     200699\n",
       "8     162294\n",
       "11     34440\n",
       "2      34056\n",
       "6      29326\n",
       "3      28791\n",
       "4      16756\n",
       "16     13933\n",
       "15      8984\n",
       "13      7930\n",
       "10      7373\n",
       "12      5610\n",
       "7       5345\n",
       "18      4436\n",
       "20      2550\n",
       "14      2186\n",
       "19      1603\n",
       "17       801\n",
       "9        604\n",
       "Name: Product_Category_1, dtype: int64"
      ]
     },
     "execution_count": 27,
     "metadata": {},
     "output_type": "execute_result"
    }
   ],
   "source": [
    "combinedf.Product_Category_1.value_counts()"
   ]
  },
  {
   "cell_type": "code",
   "execution_count": 28,
   "id": "04f01211",
   "metadata": {},
   "outputs": [
    {
     "name": "stdout",
     "output_type": "stream",
     "text": [
      "<class 'pandas.core.frame.DataFrame'>\n",
      "Int64Index: 783667 entries, 0 to 233598\n",
      "Data columns (total 10 columns):\n",
      " #   Column                      Non-Null Count   Dtype \n",
      "---  ------                      --------------   ----- \n",
      " 0   Gender                      783667 non-null  object\n",
      " 1   Age                         783667 non-null  object\n",
      " 2   Occupation                  783667 non-null  int64 \n",
      " 3   City_Category               783667 non-null  object\n",
      " 4   Stay_In_Current_City_Years  783667 non-null  object\n",
      " 5   Marital_Status              783667 non-null  int64 \n",
      " 6   Product_Category_1          783667 non-null  int64 \n",
      " 7   Product_Category_2          783667 non-null  object\n",
      " 8   Product_Category_3          783667 non-null  object\n",
      " 9   Purchase                    783667 non-null  object\n",
      "dtypes: int64(3), object(7)\n",
      "memory usage: 65.8+ MB\n"
     ]
    }
   ],
   "source": [
    "combinedf.info()"
   ]
  },
  {
   "cell_type": "code",
   "execution_count": 29,
   "id": "d50fc3c9",
   "metadata": {},
   "outputs": [],
   "source": [
    "#split data back to train and test \n",
    "bftrain_df=combinedf[combinedf.Purchase!='test']\n",
    "bftest_df=combinedf[combinedf.Purchase=='test']"
   ]
  },
  {
   "cell_type": "code",
   "execution_count": 30,
   "id": "3a5ba151",
   "metadata": {},
   "outputs": [
    {
     "name": "stderr",
     "output_type": "stream",
     "text": [
      "C:\\Users\\hp\\AppData\\Local\\Temp\\ipykernel_1160\\3853269522.py:1: SettingWithCopyWarning: \n",
      "A value is trying to be set on a copy of a slice from a DataFrame.\n",
      "Try using .loc[row_indexer,col_indexer] = value instead\n",
      "\n",
      "See the caveats in the documentation: https://pandas.pydata.org/pandas-docs/stable/user_guide/indexing.html#returning-a-view-versus-a-copy\n",
      "  bftrain_df['Purchase'] = pd.to_numeric(bftrain_df['Purchase'], errors='coerce')\n"
     ]
    }
   ],
   "source": [
    "bftrain_df['Purchase'] = pd.to_numeric(bftrain_df['Purchase'], errors='coerce')"
   ]
  },
  {
   "cell_type": "code",
   "execution_count": 31,
   "id": "76b628ed",
   "metadata": {},
   "outputs": [],
   "source": [
    "bftest_df=bftest_df.drop('Purchase',axis=1)"
   ]
  },
  {
   "cell_type": "code",
   "execution_count": 32,
   "id": "fae10839",
   "metadata": {},
   "outputs": [
    {
     "name": "stdout",
     "output_type": "stream",
     "text": [
      "<class 'pandas.core.frame.DataFrame'>\n",
      "Int64Index: 550068 entries, 0 to 550067\n",
      "Data columns (total 10 columns):\n",
      " #   Column                      Non-Null Count   Dtype \n",
      "---  ------                      --------------   ----- \n",
      " 0   Gender                      550068 non-null  object\n",
      " 1   Age                         550068 non-null  object\n",
      " 2   Occupation                  550068 non-null  int64 \n",
      " 3   City_Category               550068 non-null  object\n",
      " 4   Stay_In_Current_City_Years  550068 non-null  object\n",
      " 5   Marital_Status              550068 non-null  int64 \n",
      " 6   Product_Category_1          550068 non-null  int64 \n",
      " 7   Product_Category_2          550068 non-null  object\n",
      " 8   Product_Category_3          550068 non-null  object\n",
      " 9   Purchase                    550068 non-null  int64 \n",
      "dtypes: int64(4), object(6)\n",
      "memory usage: 46.2+ MB\n"
     ]
    }
   ],
   "source": [
    "bftrain_df.info()"
   ]
  },
  {
   "cell_type": "markdown",
   "id": "2034eb32",
   "metadata": {},
   "source": [
    "### Data Visualization"
   ]
  },
  {
   "cell_type": "code",
   "execution_count": 33,
   "id": "c403f69c",
   "metadata": {},
   "outputs": [
    {
     "name": "stdout",
     "output_type": "stream",
     "text": [
      "M    414259\n",
      "F    135809\n",
      "Name: Gender, dtype: int64\n"
     ]
    },
    {
     "data": {
      "text/plain": [
       "Text(0.5, 1.0, 'Which Gender is buying the most')"
      ]
     },
     "execution_count": 33,
     "metadata": {},
     "output_type": "execute_result"
    },
    {
     "data": {
      "image/png": "[encoded data removed]",
      "text/plain": [
       "<Figure size 640x480 with 1 Axes>"
      ]
     },
     "metadata": {},
     "output_type": "display_data"
    }
   ],
   "source": [
    "print(bftrain_df.Gender.value_counts())\n",
    "bftrain_df.Gender.value_counts().plot(kind='bar', color=['blue', 'green'])\n",
    "plt.xlabel('Gender')\n",
    "plt.ylabel('Count')\n",
    "plt.title('Which Gender is buying the most')"
   ]
  },
  {
   "cell_type": "markdown",
   "id": "fb3f94f2",
   "metadata": {},
   "source": [
    "The data shows that male customers have a higher purchasing rate than female customers on Black Friday. This could indicate different shopping preferences or behaviors between the two groups."
   ]
  },
  {
   "cell_type": "code",
   "execution_count": 34,
   "id": "c4681669",
   "metadata": {},
   "outputs": [
    {
     "name": "stdout",
     "output_type": "stream",
     "text": [
      "26-35    219587\n",
      "36-45    110013\n",
      "18-25     99660\n",
      "46-50     45701\n",
      "51-55     38501\n",
      "55+       21504\n",
      "0-17      15102\n",
      "Name: Age, dtype: int64\n"
     ]
    },
    {
     "data": {
      "text/plain": [
       "Text(0.5, 1.0, 'Which age customers are buying the most')"
      ]
     },
     "execution_count": 34,
     "metadata": {},
     "output_type": "execute_result"
    },
    {
     "data": {
      "image/png": "[encoded data removed]",
      "text/plain": [
       "<Figure size 640x480 with 1 Axes>"
      ]
     },
     "metadata": {},
     "output_type": "display_data"
    }
   ],
   "source": [
    "print(bftrain_df.Age.value_counts())\n",
    "bftrain_df.Age.value_counts().plot(kind='bar', color=['blue', 'green'])\n",
    "plt.xlabel('Age')\n",
    "plt.ylabel('Count')\n",
    "plt.title('Which age customers are buying the most')"
   ]
  },
  {
   "cell_type": "markdown",
   "id": "94627a91",
   "metadata": {},
   "source": [
    "The data shows that the most profitable age group on Black Friday is 26-35, followed by 18-25 and 36-45. The least buyers are under 17 and over 45. This suggests that Black Friday appeals more to young and middle-aged adults than to teenagers and seniors."
   ]
  },
  {
   "cell_type": "code",
   "execution_count": 35,
   "id": "72b5bf9b",
   "metadata": {},
   "outputs": [
    {
     "name": "stdout",
     "output_type": "stream",
     "text": [
      "4     72308\n",
      "0     69638\n",
      "7     59133\n",
      "1     47426\n",
      "17    40043\n",
      "20    33562\n",
      "12    31179\n",
      "14    27309\n",
      "2     26588\n",
      "16    25371\n",
      "6     20355\n",
      "3     17650\n",
      "10    12930\n",
      "5     12177\n",
      "15    12165\n",
      "11    11586\n",
      "19     8461\n",
      "13     7728\n",
      "18     6622\n",
      "9      6291\n",
      "8      1546\n",
      "Name: Occupation, dtype: int64\n"
     ]
    },
    {
     "data": {
      "text/plain": [
       "Text(0.5, 1.0, 'Which Occupation customers are buying the most')"
      ]
     },
     "execution_count": 35,
     "metadata": {},
     "output_type": "execute_result"
    },
    {
     "data": {
      "image/png": "[encoded data removed]",
      "text/plain": [
       "<Figure size 640x480 with 1 Axes>"
      ]
     },
     "metadata": {},
     "output_type": "display_data"
    }
   ],
   "source": [
    "print(bftrain_df.Occupation.value_counts())\n",
    "bftrain_df.Occupation.value_counts().plot(kind='bar', color=['blue', 'green'])\n",
    "plt.xlabel('Occupation')\n",
    "plt.ylabel('Count')\n",
    "plt.title('Which Occupation customers are buying the most')"
   ]
  },
  {
   "cell_type": "markdown",
   "id": "0227c24f",
   "metadata": {},
   "source": [
    "The data we have on the occupation groups of our customers is anonymized, so we cannot identify the most profitable ones. However, we can see that the groups with codes 4, 0 and 7 have the highest purchase rates on blackfriday."
   ]
  },
  {
   "cell_type": "code",
   "execution_count": 36,
   "id": "af7b7da5",
   "metadata": {},
   "outputs": [
    {
     "name": "stdout",
     "output_type": "stream",
     "text": [
      "1     193821\n",
      "2     101838\n",
      "3      95285\n",
      "4+     84726\n",
      "0      74398\n",
      "Name: Stay_In_Current_City_Years, dtype: int64\n"
     ]
    },
    {
     "data": {
      "text/plain": [
       "Text(0.5, 1.0, 'Who are buying the most')"
      ]
     },
     "execution_count": 36,
     "metadata": {},
     "output_type": "execute_result"
    },
    {
     "data": {
      "image/png": "[encoded data removed]",
      "text/plain": [
       "<Figure size 640x480 with 1 Axes>"
      ]
     },
     "metadata": {},
     "output_type": "display_data"
    }
   ],
   "source": [
    "print(bftrain_df.Stay_In_Current_City_Years.value_counts())\n",
    "bftrain_df.Stay_In_Current_City_Years.value_counts().plot(kind='bar', color=['blue', 'green'])\n",
    "plt.xlabel('Stay_In_Current_City_Years')\n",
    "plt.ylabel('Count')\n",
    "plt.title('Who are buying the most')"
   ]
  },
  {
   "cell_type": "markdown",
   "id": "7f981e31",
   "metadata": {},
   "source": [
    "The data shows that long-term city residents are fewer than newcomers who have lived in the city for one year or less. The latter group buys more products than the former"
   ]
  },
  {
   "cell_type": "code",
   "execution_count": 37,
   "id": "f92ed7f1",
   "metadata": {},
   "outputs": [
    {
     "name": "stdout",
     "output_type": "stream",
     "text": [
      "B    231173\n",
      "C    171175\n",
      "A    147720\n",
      "Name: City_Category, dtype: int64\n"
     ]
    },
    {
     "data": {
      "text/plain": [
       "Text(0.5, 1.0, 'Which city customers are buying the most')"
      ]
     },
     "execution_count": 37,
     "metadata": {},
     "output_type": "execute_result"
    },
    {
     "data": {
      "image/png": "[encoded data removed]",
      "text/plain": [
       "<Figure size 640x480 with 1 Axes>"
      ]
     },
     "metadata": {},
     "output_type": "display_data"
    }
   ],
   "source": [
    "print(bftrain_df.City_Category.value_counts())\n",
    "bftrain_df.City_Category.value_counts().plot(kind='bar', color=['blue', 'green','red'])\n",
    "plt.xlabel('City_Category')\n",
    "plt.ylabel('Count')\n",
    "plt.title('Which city customers are buying the most')"
   ]
  },
  {
   "cell_type": "markdown",
   "id": "b7f753ab",
   "metadata": {},
   "source": [
    "The data shows that city B has the highest number of customers on Black Friday, followed by city C and city A. This suggests that city B has a higher demand for our products and services than the other two cities. We should analyze the factors that influence this trend and use them to improve our marketing strategies."
   ]
  },
  {
   "cell_type": "code",
   "execution_count": 38,
   "id": "694ba8db",
   "metadata": {},
   "outputs": [
    {
     "name": "stdout",
     "output_type": "stream",
     "text": [
      "0    324731\n",
      "1    225337\n",
      "Name: Marital_Status, dtype: int64\n"
     ]
    },
    {
     "data": {
      "text/plain": [
       "Text(0.5, 1.0, 'Who are our customers')"
      ]
     },
     "execution_count": 38,
     "metadata": {},
     "output_type": "execute_result"
    },
    {
     "data": {
      "image/png": "[encoded data removed]",
      "text/plain": [
       "<Figure size 640x480 with 1 Axes>"
      ]
     },
     "metadata": {},
     "output_type": "display_data"
    }
   ],
   "source": [
    "print(bftrain_df.Marital_Status.value_counts())\n",
    "bftrain_df.Marital_Status.value_counts().plot(kind='bar', color=['blue', 'green'])\n",
    "plt.xlabel('Marital_Status')\n",
    "plt.ylabel('Count')\n",
    "plt.title('Who are our customers')"
   ]
  },
  {
   "cell_type": "markdown",
   "id": "83ef0f6d",
   "metadata": {},
   "source": [
    "We can use 0 to represent unmarried customers and 1 to represent married customers. Our data shows that most of our customers are unmarried (0) rather than married (1)."
   ]
  },
  {
   "cell_type": "code",
   "execution_count": 39,
   "id": "573c778c",
   "metadata": {},
   "outputs": [
    {
     "name": "stdout",
     "output_type": "stream",
     "text": [
      "5     150933\n",
      "1     140378\n",
      "8     113925\n",
      "11     24287\n",
      "2      23864\n",
      "6      20466\n",
      "3      20213\n",
      "4      11753\n",
      "16      9828\n",
      "15      6290\n",
      "13      5549\n",
      "10      5125\n",
      "12      3947\n",
      "7       3721\n",
      "18      3125\n",
      "20      2550\n",
      "19      1603\n",
      "14      1523\n",
      "17       578\n",
      "9        410\n",
      "Name: Product_Category_1, dtype: int64\n"
     ]
    },
    {
     "data": {
      "text/plain": [
       "Text(0.5, 1.0, 'Which Product_Category_1 are people buying the most')"
      ]
     },
     "execution_count": 39,
     "metadata": {},
     "output_type": "execute_result"
    },
    {
     "data": {
      "image/png": "[encoded data removed]",
      "text/plain": [
       "<Figure size 640x480 with 1 Axes>"
      ]
     },
     "metadata": {},
     "output_type": "display_data"
    }
   ],
   "source": [
    "print(bftrain_df.Product_Category_1.value_counts())\n",
    "bftrain_df.Product_Category_1.value_counts().plot(kind='bar', color=['blue', 'green'])\n",
    "plt.xlabel('Stay_In_Current_City_Years')\n",
    "plt.ylabel('Count')\n",
    "plt.title('Which Product_Category_1 are people buying the most')"
   ]
  },
  {
   "cell_type": "code",
   "execution_count": 40,
   "id": "9327bf98",
   "metadata": {},
   "outputs": [
    {
     "name": "stdout",
     "output_type": "stream",
     "text": [
      "0       173638\n",
      "8.0      64088\n",
      "14.0     55108\n",
      "2.0      49217\n",
      "16.0     43255\n",
      "15.0     37855\n",
      "5.0      26235\n",
      "4.0      25677\n",
      "6.0      16466\n",
      "11.0     14134\n",
      "17.0     13320\n",
      "13.0     10531\n",
      "9.0       5693\n",
      "12.0      5528\n",
      "10.0      3043\n",
      "3.0       2884\n",
      "18.0      2770\n",
      "7.0        626\n",
      "Name: Product_Category_2, dtype: int64\n"
     ]
    },
    {
     "data": {
      "text/plain": [
       "Text(0.5, 1.0, 'Which Product_Category_2 are people buying the most')"
      ]
     },
     "execution_count": 40,
     "metadata": {},
     "output_type": "execute_result"
    },
    {
     "data": {
      "image/png": "[encoded data removed]",
      "text/plain": [
       "<Figure size 640x480 with 1 Axes>"
      ]
     },
     "metadata": {},
     "output_type": "display_data"
    }
   ],
   "source": [
    "print(bftrain_df.Product_Category_2.value_counts())\n",
    "bftrain_df.Product_Category_2.value_counts().plot(kind='bar', color=['blue', 'green'])\n",
    "plt.xlabel('Stay_In_Current_City_Years')\n",
    "plt.ylabel('Count')\n",
    "plt.title('Which Product_Category_2 are people buying the most')"
   ]
  },
  {
   "cell_type": "code",
   "execution_count": 41,
   "id": "7ff46a62",
   "metadata": {},
   "outputs": [
    {
     "name": "stdout",
     "output_type": "stream",
     "text": [
      "0       383247\n",
      "16.0     32636\n",
      "15.0     28013\n",
      "14.0     18428\n",
      "17.0     16702\n",
      "5.0      16658\n",
      "8.0      12562\n",
      "9.0      11579\n",
      "12.0      9246\n",
      "13.0      5459\n",
      "6.0       4890\n",
      "18.0      4629\n",
      "4.0       1875\n",
      "11.0      1805\n",
      "10.0      1726\n",
      "3.0        613\n",
      "Name: Product_Category_3, dtype: int64\n"
     ]
    },
    {
     "data": {
      "text/plain": [
       "Text(0.5, 1.0, 'Which Product_Category_3 are people buying the most')"
      ]
     },
     "execution_count": 41,
     "metadata": {},
     "output_type": "execute_result"
    },
    {
     "data": {
      "image/png": "[encoded data removed]",
      "text/plain": [
       "<Figure size 640x480 with 1 Axes>"
      ]
     },
     "metadata": {},
     "output_type": "display_data"
    }
   ],
   "source": [
    "print(bftrain_df.Product_Category_3.value_counts())\n",
    "bftrain_df.Product_Category_3.value_counts().plot(kind='bar', color=['blue', 'green'])\n",
    "plt.xlabel('Stay_In_Current_City_Years')\n",
    "plt.ylabel('Count')\n",
    "plt.title('Which Product_Category_3 are people buying the most')"
   ]
  },
  {
   "cell_type": "code",
   "execution_count": 42,
   "id": "2dcda080",
   "metadata": {},
   "outputs": [
    {
     "data": {
      "text/plain": [
       "<Axes: ylabel='Density'>"
      ]
     },
     "execution_count": 42,
     "metadata": {},
     "output_type": "execute_result"
    },
    {
     "data": {
      "text/plain": [
       "<Figure size 3000x1500 with 0 Axes>"
      ]
     },
     "metadata": {},
     "output_type": "display_data"
    },
    {
     "data": {
      "image/png": "[encoded data removed]",
      "text/plain": [
       "<Figure size 640x480 with 3 Axes>"
      ]
     },
     "metadata": {},
     "output_type": "display_data"
    }
   ],
   "source": [
    "#hitogram,Boxplot,and density curve\n",
    "plt.figure(figsize=(30,15))\n",
    "fig,ax=plt.subplots(3,1)\n",
    "bftrain_df.Purchase.plot(kind='hist',ax=ax[0])\n",
    "bftrain_df.Purchase.plot(kind='box',vert=False,ax=ax[1])\n",
    "bftrain_df.Purchase.plot(kind='kde',ax=ax[2])"
   ]
  },
  {
   "cell_type": "code",
   "execution_count": 43,
   "id": "f28d8f3f",
   "metadata": {},
   "outputs": [
    {
     "data": {
      "text/html": [
       "<div>\n",
       "<style scoped>\n",
       "    .dataframe tbody tr th:only-of-type {\n",
       "        vertical-align: middle;\n",
       "    }\n",
       "\n",
       "    .dataframe tbody tr th {\n",
       "        vertical-align: top;\n",
       "    }\n",
       "\n",
       "    .dataframe thead th {\n",
       "        text-align: right;\n",
       "    }\n",
       "</style>\n",
       "<table border=\"1\" class=\"dataframe\">\n",
       "  <thead>\n",
       "    <tr style=\"text-align: right;\">\n",
       "      <th>Gender</th>\n",
       "      <th>F</th>\n",
       "      <th>M</th>\n",
       "    </tr>\n",
       "    <tr>\n",
       "      <th>Age</th>\n",
       "      <th></th>\n",
       "      <th></th>\n",
       "    </tr>\n",
       "  </thead>\n",
       "  <tbody>\n",
       "    <tr>\n",
       "      <th>0-17</th>\n",
       "      <td>5083</td>\n",
       "      <td>10019</td>\n",
       "    </tr>\n",
       "    <tr>\n",
       "      <th>18-25</th>\n",
       "      <td>24628</td>\n",
       "      <td>75032</td>\n",
       "    </tr>\n",
       "    <tr>\n",
       "      <th>26-35</th>\n",
       "      <td>50752</td>\n",
       "      <td>168835</td>\n",
       "    </tr>\n",
       "    <tr>\n",
       "      <th>36-45</th>\n",
       "      <td>27170</td>\n",
       "      <td>82843</td>\n",
       "    </tr>\n",
       "    <tr>\n",
       "      <th>46-50</th>\n",
       "      <td>13199</td>\n",
       "      <td>32502</td>\n",
       "    </tr>\n",
       "    <tr>\n",
       "      <th>51-55</th>\n",
       "      <td>9894</td>\n",
       "      <td>28607</td>\n",
       "    </tr>\n",
       "    <tr>\n",
       "      <th>55+</th>\n",
       "      <td>5083</td>\n",
       "      <td>16421</td>\n",
       "    </tr>\n",
       "  </tbody>\n",
       "</table>\n",
       "</div>"
      ],
      "text/plain": [
       "Gender      F       M\n",
       "Age                  \n",
       "0-17     5083   10019\n",
       "18-25   24628   75032\n",
       "26-35   50752  168835\n",
       "36-45   27170   82843\n",
       "46-50   13199   32502\n",
       "51-55    9894   28607\n",
       "55+      5083   16421"
      ]
     },
     "execution_count": 43,
     "metadata": {},
     "output_type": "execute_result"
    }
   ],
   "source": [
    "pd.crosstab(bftrain_df.Age,bftrain_df.Gender)"
   ]
  },
  {
   "cell_type": "code",
   "execution_count": 44,
   "id": "afa34467",
   "metadata": {},
   "outputs": [
    {
     "data": {
      "text/plain": [
       "Gender\n",
       "F    8734.565765\n",
       "M    9437.526040\n",
       "Name: Purchase, dtype: float64"
      ]
     },
     "execution_count": 44,
     "metadata": {},
     "output_type": "execute_result"
    }
   ],
   "source": [
    "bftrain_df.Purchase.groupby(bftrain_df.Gender).mean()"
   ]
  },
  {
   "cell_type": "code",
   "execution_count": 45,
   "id": "9cefbce9",
   "metadata": {},
   "outputs": [
    {
     "data": {
      "text/plain": [
       "Gender\n",
       "F    2.272651e+07\n",
       "M    2.593036e+07\n",
       "Name: Purchase, dtype: float64"
      ]
     },
     "execution_count": 45,
     "metadata": {},
     "output_type": "execute_result"
    }
   ],
   "source": [
    "bftrain_df.Purchase.groupby(bftrain_df.Gender).var()"
   ]
  },
  {
   "cell_type": "code",
   "execution_count": 46,
   "id": "0f1cc4a2",
   "metadata": {},
   "outputs": [],
   "source": [
    "f=bftrain_df[bftrain_df.Gender=='F']\n",
    "m=bftrain_df[bftrain_df.Gender=='M']"
   ]
  },
  {
   "cell_type": "code",
   "execution_count": 47,
   "id": "9059a024",
   "metadata": {},
   "outputs": [],
   "source": [
    "from scipy.stats import ttest_ind"
   ]
  },
  {
   "cell_type": "code",
   "execution_count": 48,
   "id": "49b8368d",
   "metadata": {},
   "outputs": [
    {
     "data": {
      "text/plain": [
       "Ttest_indResult(statistic=-46.358248669626064, pvalue=0.0)"
      ]
     },
     "execution_count": 48,
     "metadata": {},
     "output_type": "execute_result"
    }
   ],
   "source": [
    "ttest_ind(f.Purchase,m.Purchase,equal_var=False)\n",
    "#since p-value=0.0 is less than .05 ,reject null hypothesis\n",
    "# Alternative hypothesis is true, there is significance difference in average of purchase to Gender"
   ]
  },
  {
   "cell_type": "code",
   "execution_count": 49,
   "id": "571e945e",
   "metadata": {},
   "outputs": [
    {
     "data": {
      "text/plain": [
       "Marital_Status\n",
       "0    9265.907619\n",
       "1    9261.174574\n",
       "Name: Purchase, dtype: float64"
      ]
     },
     "execution_count": 49,
     "metadata": {},
     "output_type": "execute_result"
    }
   ],
   "source": [
    "bftrain_df.Purchase.groupby(bftrain_df.Marital_Status).mean()"
   ]
  },
  {
   "cell_type": "code",
   "execution_count": 50,
   "id": "ee5635ad",
   "metadata": {},
   "outputs": [
    {
     "data": {
      "text/plain": [
       "Marital_Status\n",
       "0    2.527423e+07\n",
       "1    2.516926e+07\n",
       "Name: Purchase, dtype: float64"
      ]
     },
     "execution_count": 50,
     "metadata": {},
     "output_type": "execute_result"
    }
   ],
   "source": [
    "bftrain_df.Purchase.groupby(bftrain_df.Marital_Status).var()"
   ]
  },
  {
   "cell_type": "code",
   "execution_count": 51,
   "id": "1cb4d774",
   "metadata": {},
   "outputs": [],
   "source": [
    "zero=bftrain_df[bftrain_df.Marital_Status==0]\n",
    "one=bftrain_df[bftrain_df.Marital_Status==1]"
   ]
  },
  {
   "cell_type": "code",
   "execution_count": 52,
   "id": "c2680bf5",
   "metadata": {},
   "outputs": [
    {
     "data": {
      "text/plain": [
       "Ttest_indResult(statistic=0.34379905124865934, pvalue=0.7309975627344574)"
      ]
     },
     "execution_count": 52,
     "metadata": {},
     "output_type": "execute_result"
    }
   ],
   "source": [
    "ttest_ind(zero.Purchase,one.Purchase,equal_var=False)\n",
    "#since p-value=0.7309975627344574 is more than .05 ,fail to reject null hypothesis\n",
    "# Alternative hypothesis is false, there is no significance difference in average of purchase to Ma`rtial_status"
   ]
  },
  {
   "cell_type": "code",
   "execution_count": 53,
   "id": "e3775dbb",
   "metadata": {},
   "outputs": [
    {
     "data": {
      "text/plain": [
       "Age\n",
       "0-17     8933.464640\n",
       "18-25    9169.663606\n",
       "26-35    9252.690633\n",
       "36-45    9331.350695\n",
       "46-50    9208.625697\n",
       "51-55    9534.808031\n",
       "55+      9336.280459\n",
       "Name: Purchase, dtype: float64"
      ]
     },
     "execution_count": 53,
     "metadata": {},
     "output_type": "execute_result"
    }
   ],
   "source": [
    "bftrain_df.Purchase.groupby(bftrain_df.Age).mean()"
   ]
  },
  {
   "cell_type": "code",
   "execution_count": 54,
   "id": "f384675f",
   "metadata": {},
   "outputs": [
    {
     "data": {
      "text/plain": [
       "Age\n",
       "0-17     2.612349e+07\n",
       "18-25    2.534440e+07\n",
       "26-35    2.510538e+07\n",
       "36-45    2.522976e+07\n",
       "46-50    2.467324e+07\n",
       "51-55    2.588131e+07\n",
       "55+      2.511507e+07\n",
       "Name: Purchase, dtype: float64"
      ]
     },
     "execution_count": 54,
     "metadata": {},
     "output_type": "execute_result"
    }
   ],
   "source": [
    "bftrain_df.Purchase.groupby(bftrain_df.Age).var()"
   ]
  },
  {
   "cell_type": "code",
   "execution_count": 55,
   "id": "eb0f0fe5",
   "metadata": {},
   "outputs": [],
   "source": [
    "a=bftrain_df[bftrain_df.Age=='0-17']\n",
    "b=bftrain_df[bftrain_df.Age=='18-25']\n",
    "c=bftrain_df[bftrain_df.Age=='26-35']\n",
    "d=bftrain_df[bftrain_df.Age=='36-45']\n",
    "e=bftrain_df[bftrain_df.Age=='46-50']\n",
    "f=bftrain_df[bftrain_df.Age=='51-55']\n",
    "g=bftrain_df[bftrain_df.Age=='55+']"
   ]
  },
  {
   "cell_type": "code",
   "execution_count": 56,
   "id": "488331fc",
   "metadata": {},
   "outputs": [],
   "source": [
    "from scipy.stats import f_oneway"
   ]
  },
  {
   "cell_type": "code",
   "execution_count": 57,
   "id": "f560975a",
   "metadata": {},
   "outputs": [
    {
     "data": {
      "text/plain": [
       "F_onewayResult(statistic=40.57579909450407, pvalue=1.053563939251671e-49)"
      ]
     },
     "execution_count": 57,
     "metadata": {},
     "output_type": "execute_result"
    }
   ],
   "source": [
    "f_oneway(a.Purchase,b.Purchase,c.Purchase,d.Purchase,e.Purchase,f.Purchase,g.Purchase)\n",
    "#since p-value=1.053563939251671e-49 less than 0.05 ,reject null hypothesis\n",
    "# alternative hypothesis is True, there is significance difference in average of purchase to Age"
   ]
  },
  {
   "cell_type": "code",
   "execution_count": 58,
   "id": "21e262d8",
   "metadata": {},
   "outputs": [
    {
     "data": {
      "text/plain": [
       "City_Category\n",
       "A    8911.939216\n",
       "B    9151.300563\n",
       "C    9719.920993\n",
       "Name: Purchase, dtype: float64"
      ]
     },
     "execution_count": 58,
     "metadata": {},
     "output_type": "execute_result"
    }
   ],
   "source": [
    "bftrain_df.Purchase.groupby(bftrain_df.City_Category).mean()"
   ]
  },
  {
   "cell_type": "code",
   "execution_count": 59,
   "id": "15fa2bcb",
   "metadata": {},
   "outputs": [],
   "source": [
    "A=bftrain_df[bftrain_df.City_Category=='A']\n",
    "B=bftrain_df[bftrain_df.City_Category=='B']\n",
    "C=bftrain_df[bftrain_df.City_Category=='C']"
   ]
  },
  {
   "cell_type": "code",
   "execution_count": 60,
   "id": "b834247f",
   "metadata": {},
   "outputs": [
    {
     "data": {
      "text/plain": [
       "F_onewayResult(statistic=1130.7459610102974, pvalue=0.0)"
      ]
     },
     "execution_count": 60,
     "metadata": {},
     "output_type": "execute_result"
    }
   ],
   "source": [
    "f_oneway(A.Purchase,B.Purchase,C.Purchase)\n",
    "#since p-value=0.0 less than 0.05 ,reject null hypothesis\n",
    "# alternative hypothesis is True, there is significance difference in average of purchase to Age"
   ]
  },
  {
   "cell_type": "code",
   "execution_count": 61,
   "id": "97841e1a",
   "metadata": {},
   "outputs": [
    {
     "data": {
      "text/plain": [
       "Stay_In_Current_City_Years\n",
       "0     9180.075123\n",
       "1     9250.145923\n",
       "2     9320.429810\n",
       "3     9286.904119\n",
       "4+    9275.598872\n",
       "Name: Purchase, dtype: float64"
      ]
     },
     "execution_count": 61,
     "metadata": {},
     "output_type": "execute_result"
    }
   ],
   "source": [
    "bftrain_df.Purchase.groupby(bftrain_df.Stay_In_Current_City_Years).mean()"
   ]
  },
  {
   "cell_type": "code",
   "execution_count": 62,
   "id": "b8bf6f93",
   "metadata": {},
   "outputs": [
    {
     "data": {
      "text/plain": [
       "Stay_In_Current_City_Years\n",
       "0     2.490489e+07\n",
       "1     2.527552e+07\n",
       "2     2.544787e+07\n",
       "3     2.520385e+07\n",
       "4+    2.517659e+07\n",
       "Name: Purchase, dtype: float64"
      ]
     },
     "execution_count": 62,
     "metadata": {},
     "output_type": "execute_result"
    }
   ],
   "source": [
    "bftrain_df.Purchase.groupby(bftrain_df.Stay_In_Current_City_Years).var()"
   ]
  },
  {
   "cell_type": "code",
   "execution_count": 63,
   "id": "2dc4d94c",
   "metadata": {},
   "outputs": [],
   "source": [
    "q=bftrain_df[bftrain_df.Stay_In_Current_City_Years=='0']\n",
    "w=bftrain_df[bftrain_df.Stay_In_Current_City_Years=='1']\n",
    "r=bftrain_df[bftrain_df.Stay_In_Current_City_Years=='2']\n",
    "t=bftrain_df[bftrain_df.Stay_In_Current_City_Years=='3']\n",
    "y=bftrain_df[bftrain_df.Stay_In_Current_City_Years=='4+']"
   ]
  },
  {
   "cell_type": "code",
   "execution_count": 64,
   "id": "215a3bfe",
   "metadata": {},
   "outputs": [
    {
     "data": {
      "text/plain": [
       "F_onewayResult(statistic=8.545072191436018, pvalue=4.203053657961194e-08)"
      ]
     },
     "execution_count": 64,
     "metadata": {},
     "output_type": "execute_result"
    }
   ],
   "source": [
    "f_oneway(q.Purchase,w.Purchase,e.Purchase,r.Purchase,t.Purchase,y.Purchase)\n",
    "#since p-value=4.203053657961194e-08 less than 0.05 ,reject null hypothesis\n",
    "# alternative hypothesis is True, there is significance difference in average of purchase to Stay_In_Current_City_years"
   ]
  },
  {
   "cell_type": "code",
   "execution_count": 65,
   "id": "dc875563",
   "metadata": {},
   "outputs": [],
   "source": [
    "from scipy.stats import chi2_contingency"
   ]
  },
  {
   "cell_type": "code",
   "execution_count": 66,
   "id": "83e0495f",
   "metadata": {},
   "outputs": [
    {
     "data": {
      "text/plain": [
       "Chi2ContingencyResult(statistic=1412.7156576195039, pvalue=4.2750569064909935e-302, dof=6, expected_freq=array([[  3728.60722311,  24605.54865944,  54214.9168521 ,\n",
       "         27161.65186304,  11283.34516642,   9505.70167507,\n",
       "          5309.22856083],\n",
       "       [ 11373.39277689,  75054.45134056, 165372.0831479 ,\n",
       "         82851.34813696,  34417.65483358,  28995.29832493,\n",
       "         16194.77143917]]))"
      ]
     },
     "execution_count": 66,
     "metadata": {},
     "output_type": "execute_result"
    }
   ],
   "source": [
    "chi2_contingency(pd.crosstab(bftrain_df.Gender,bftrain_df.Age))\n",
    "\n",
    "#Since the pvalue=4.2750569064909935e-302 is less than 0.05, reject null\n",
    "# Alternative hyothesis ture, there is a relationship between Gender and Age"
   ]
  },
  {
   "cell_type": "code",
   "execution_count": 67,
   "id": "e9604368",
   "metadata": {},
   "outputs": [
    {
     "name": "stdout",
     "output_type": "stream",
     "text": [
      "<class 'pandas.core.frame.DataFrame'>\n",
      "Int64Index: 550068 entries, 0 to 550067\n",
      "Data columns (total 10 columns):\n",
      " #   Column                      Non-Null Count   Dtype \n",
      "---  ------                      --------------   ----- \n",
      " 0   Gender                      550068 non-null  object\n",
      " 1   Age                         550068 non-null  object\n",
      " 2   Occupation                  550068 non-null  int64 \n",
      " 3   City_Category               550068 non-null  object\n",
      " 4   Stay_In_Current_City_Years  550068 non-null  object\n",
      " 5   Marital_Status              550068 non-null  int64 \n",
      " 6   Product_Category_1          550068 non-null  int64 \n",
      " 7   Product_Category_2          550068 non-null  object\n",
      " 8   Product_Category_3          550068 non-null  object\n",
      " 9   Purchase                    550068 non-null  int64 \n",
      "dtypes: int64(4), object(6)\n",
      "memory usage: 46.2+ MB\n"
     ]
    }
   ],
   "source": [
    "bftrain_df.info()"
   ]
  },
  {
   "cell_type": "code",
   "execution_count": 68,
   "id": "0aecf4ad",
   "metadata": {},
   "outputs": [
    {
     "data": {
      "text/plain": [
       "Chi2ContingencyResult(statistic=74.00272697523472, pvalue=7.80091894540745e-18, dof=1, expected_freq=array([[ 80174.43730412,  55634.56269588],\n",
       "       [244556.56269588, 169702.43730412]]))"
      ]
     },
     "execution_count": 68,
     "metadata": {},
     "output_type": "execute_result"
    }
   ],
   "source": [
    "chi2_contingency(pd.crosstab(bftrain_df.Gender,bftrain_df.Marital_Status))\n",
    "\n",
    "#Since the pvalue=7.80091894540745e-18 is less than 0.05, reject null\n",
    "# Alternative hyothesis ture, there is a relationship between Gender and Marital_Status"
   ]
  },
  {
   "cell_type": "code",
   "execution_count": 69,
   "id": "2c01f03a",
   "metadata": {},
   "outputs": [
    {
     "data": {
      "text/plain": [
       "Chi2ContingencyResult(statistic=18710.023962434694, pvalue=0.0, dof=20, expected_freq=array([[41110.58519674, 27997.79737414, 15696.14634554, 10419.62475548,\n",
       "        42686.81171782,  7188.65556077, 12016.51342198, 34908.98983944,\n",
       "          912.67648   ,  3713.87305024,  7633.18686053,  6839.76047689,\n",
       "        18406.42947599,  4562.20170597, 16121.78654094,  7181.57139663,\n",
       "        14977.69403237, 23639.26538719,  3909.27791109,  4994.9260655 ,\n",
       "        19813.22640474],\n",
       "       [28527.41480326, 19428.20262586, 10891.85365446,  7230.37524452,\n",
       "        29621.18828218,  4988.34443923,  8338.48657802, 24224.01016056,\n",
       "          633.32352   ,  2577.12694976,  5296.81313947,  4746.23952311,\n",
       "        12772.57052401,  3165.79829403, 11187.21345906,  4983.42860337,\n",
       "        10393.30596763, 16403.73461281,  2712.72208891,  3466.0739345 ,\n",
       "        13748.77359526]]))"
      ]
     },
     "execution_count": 69,
     "metadata": {},
     "output_type": "execute_result"
    }
   ],
   "source": [
    "chi2_contingency(pd.crosstab(bftrain_df.Marital_Status,bftrain_df.Occupation))\n",
    "\n",
    "#Since the pvalue=0.0 is less than 0.05, reject null\n",
    "# Alternative hyothesis ture, there is a relationship between Occupation and Marital_Status"
   ]
  },
  {
   "cell_type": "markdown",
   "id": "683e6707",
   "metadata": {},
   "source": [
    "### Spliting into X and y"
   ]
  },
  {
   "cell_type": "code",
   "execution_count": 70,
   "id": "53c00ac2",
   "metadata": {},
   "outputs": [],
   "source": [
    "y=bftrain_df.Purchase\n",
    "X=bftrain_df.drop('Purchase',axis=1)"
   ]
  },
  {
   "cell_type": "code",
   "execution_count": 71,
   "id": "7df0c89d",
   "metadata": {},
   "outputs": [
    {
     "data": {
      "text/html": [
       "<div>\n",
       "<style scoped>\n",
       "    .dataframe tbody tr th:only-of-type {\n",
       "        vertical-align: middle;\n",
       "    }\n",
       "\n",
       "    .dataframe tbody tr th {\n",
       "        vertical-align: top;\n",
       "    }\n",
       "\n",
       "    .dataframe thead th {\n",
       "        text-align: right;\n",
       "    }\n",
       "</style>\n",
       "<table border=\"1\" class=\"dataframe\">\n",
       "  <thead>\n",
       "    <tr style=\"text-align: right;\">\n",
       "      <th></th>\n",
       "      <th>Gender</th>\n",
       "      <th>Age</th>\n",
       "      <th>Occupation</th>\n",
       "      <th>City_Category</th>\n",
       "      <th>Stay_In_Current_City_Years</th>\n",
       "      <th>Marital_Status</th>\n",
       "      <th>Product_Category_1</th>\n",
       "      <th>Product_Category_2</th>\n",
       "      <th>Product_Category_3</th>\n",
       "    </tr>\n",
       "  </thead>\n",
       "  <tbody>\n",
       "    <tr>\n",
       "      <th>0</th>\n",
       "      <td>F</td>\n",
       "      <td>0-17</td>\n",
       "      <td>10</td>\n",
       "      <td>A</td>\n",
       "      <td>2</td>\n",
       "      <td>0</td>\n",
       "      <td>3</td>\n",
       "      <td>0</td>\n",
       "      <td>0</td>\n",
       "    </tr>\n",
       "    <tr>\n",
       "      <th>1</th>\n",
       "      <td>F</td>\n",
       "      <td>0-17</td>\n",
       "      <td>10</td>\n",
       "      <td>A</td>\n",
       "      <td>2</td>\n",
       "      <td>0</td>\n",
       "      <td>1</td>\n",
       "      <td>6.0</td>\n",
       "      <td>14.0</td>\n",
       "    </tr>\n",
       "    <tr>\n",
       "      <th>2</th>\n",
       "      <td>F</td>\n",
       "      <td>0-17</td>\n",
       "      <td>10</td>\n",
       "      <td>A</td>\n",
       "      <td>2</td>\n",
       "      <td>0</td>\n",
       "      <td>12</td>\n",
       "      <td>0</td>\n",
       "      <td>0</td>\n",
       "    </tr>\n",
       "    <tr>\n",
       "      <th>3</th>\n",
       "      <td>F</td>\n",
       "      <td>0-17</td>\n",
       "      <td>10</td>\n",
       "      <td>A</td>\n",
       "      <td>2</td>\n",
       "      <td>0</td>\n",
       "      <td>12</td>\n",
       "      <td>14.0</td>\n",
       "      <td>0</td>\n",
       "    </tr>\n",
       "    <tr>\n",
       "      <th>4</th>\n",
       "      <td>M</td>\n",
       "      <td>55+</td>\n",
       "      <td>16</td>\n",
       "      <td>C</td>\n",
       "      <td>4+</td>\n",
       "      <td>0</td>\n",
       "      <td>8</td>\n",
       "      <td>0</td>\n",
       "      <td>0</td>\n",
       "    </tr>\n",
       "    <tr>\n",
       "      <th>...</th>\n",
       "      <td>...</td>\n",
       "      <td>...</td>\n",
       "      <td>...</td>\n",
       "      <td>...</td>\n",
       "      <td>...</td>\n",
       "      <td>...</td>\n",
       "      <td>...</td>\n",
       "      <td>...</td>\n",
       "      <td>...</td>\n",
       "    </tr>\n",
       "    <tr>\n",
       "      <th>550063</th>\n",
       "      <td>M</td>\n",
       "      <td>51-55</td>\n",
       "      <td>13</td>\n",
       "      <td>B</td>\n",
       "      <td>1</td>\n",
       "      <td>1</td>\n",
       "      <td>20</td>\n",
       "      <td>0</td>\n",
       "      <td>0</td>\n",
       "    </tr>\n",
       "    <tr>\n",
       "      <th>550064</th>\n",
       "      <td>F</td>\n",
       "      <td>26-35</td>\n",
       "      <td>1</td>\n",
       "      <td>C</td>\n",
       "      <td>3</td>\n",
       "      <td>0</td>\n",
       "      <td>20</td>\n",
       "      <td>0</td>\n",
       "      <td>0</td>\n",
       "    </tr>\n",
       "    <tr>\n",
       "      <th>550065</th>\n",
       "      <td>F</td>\n",
       "      <td>26-35</td>\n",
       "      <td>15</td>\n",
       "      <td>B</td>\n",
       "      <td>4+</td>\n",
       "      <td>1</td>\n",
       "      <td>20</td>\n",
       "      <td>0</td>\n",
       "      <td>0</td>\n",
       "    </tr>\n",
       "    <tr>\n",
       "      <th>550066</th>\n",
       "      <td>F</td>\n",
       "      <td>55+</td>\n",
       "      <td>1</td>\n",
       "      <td>C</td>\n",
       "      <td>2</td>\n",
       "      <td>0</td>\n",
       "      <td>20</td>\n",
       "      <td>0</td>\n",
       "      <td>0</td>\n",
       "    </tr>\n",
       "    <tr>\n",
       "      <th>550067</th>\n",
       "      <td>F</td>\n",
       "      <td>46-50</td>\n",
       "      <td>0</td>\n",
       "      <td>B</td>\n",
       "      <td>4+</td>\n",
       "      <td>1</td>\n",
       "      <td>20</td>\n",
       "      <td>0</td>\n",
       "      <td>0</td>\n",
       "    </tr>\n",
       "  </tbody>\n",
       "</table>\n",
       "<p>550068 rows × 9 columns</p>\n",
       "</div>"
      ],
      "text/plain": [
       "       Gender    Age  Occupation City_Category Stay_In_Current_City_Years  \\\n",
       "0           F   0-17          10             A                          2   \n",
       "1           F   0-17          10             A                          2   \n",
       "2           F   0-17          10             A                          2   \n",
       "3           F   0-17          10             A                          2   \n",
       "4           M    55+          16             C                         4+   \n",
       "...       ...    ...         ...           ...                        ...   \n",
       "550063      M  51-55          13             B                          1   \n",
       "550064      F  26-35           1             C                          3   \n",
       "550065      F  26-35          15             B                         4+   \n",
       "550066      F    55+           1             C                          2   \n",
       "550067      F  46-50           0             B                         4+   \n",
       "\n",
       "        Marital_Status  Product_Category_1 Product_Category_2  \\\n",
       "0                    0                   3                  0   \n",
       "1                    0                   1                6.0   \n",
       "2                    0                  12                  0   \n",
       "3                    0                  12               14.0   \n",
       "4                    0                   8                  0   \n",
       "...                ...                 ...                ...   \n",
       "550063               1                  20                  0   \n",
       "550064               0                  20                  0   \n",
       "550065               1                  20                  0   \n",
       "550066               0                  20                  0   \n",
       "550067               1                  20                  0   \n",
       "\n",
       "       Product_Category_3  \n",
       "0                       0  \n",
       "1                    14.0  \n",
       "2                       0  \n",
       "3                       0  \n",
       "4                       0  \n",
       "...                   ...  \n",
       "550063                  0  \n",
       "550064                  0  \n",
       "550065                  0  \n",
       "550066                  0  \n",
       "550067                  0  \n",
       "\n",
       "[550068 rows x 9 columns]"
      ]
     },
     "execution_count": 71,
     "metadata": {},
     "output_type": "execute_result"
    }
   ],
   "source": [
    "X"
   ]
  },
  {
   "cell_type": "code",
   "execution_count": 72,
   "id": "c3e8065b",
   "metadata": {},
   "outputs": [],
   "source": [
    "from sklearn.preprocessing import LabelEncoder"
   ]
  },
  {
   "cell_type": "code",
   "execution_count": 73,
   "id": "c970124d",
   "metadata": {},
   "outputs": [],
   "source": [
    "for column in X.columns:\n",
    "    if X[column].dtype == 'object':\n",
    "        X[column] = X[column].astype(str)\n",
    "        label_encoder = LabelEncoder()\n",
    "        X[column] = label_encoder.fit_transform(X[column])"
   ]
  },
  {
   "cell_type": "code",
   "execution_count": 74,
   "id": "1e03e08f",
   "metadata": {},
   "outputs": [
    {
     "data": {
      "text/html": [
       "<div>\n",
       "<style scoped>\n",
       "    .dataframe tbody tr th:only-of-type {\n",
       "        vertical-align: middle;\n",
       "    }\n",
       "\n",
       "    .dataframe tbody tr th {\n",
       "        vertical-align: top;\n",
       "    }\n",
       "\n",
       "    .dataframe thead th {\n",
       "        text-align: right;\n",
       "    }\n",
       "</style>\n",
       "<table border=\"1\" class=\"dataframe\">\n",
       "  <thead>\n",
       "    <tr style=\"text-align: right;\">\n",
       "      <th></th>\n",
       "      <th>Gender</th>\n",
       "      <th>Age</th>\n",
       "      <th>Occupation</th>\n",
       "      <th>City_Category</th>\n",
       "      <th>Stay_In_Current_City_Years</th>\n",
       "      <th>Marital_Status</th>\n",
       "      <th>Product_Category_1</th>\n",
       "      <th>Product_Category_2</th>\n",
       "      <th>Product_Category_3</th>\n",
       "    </tr>\n",
       "  </thead>\n",
       "  <tbody>\n",
       "    <tr>\n",
       "      <th>0</th>\n",
       "      <td>0</td>\n",
       "      <td>0</td>\n",
       "      <td>10</td>\n",
       "      <td>0</td>\n",
       "      <td>2</td>\n",
       "      <td>0</td>\n",
       "      <td>3</td>\n",
       "      <td>0</td>\n",
       "      <td>0</td>\n",
       "    </tr>\n",
       "    <tr>\n",
       "      <th>1</th>\n",
       "      <td>0</td>\n",
       "      <td>0</td>\n",
       "      <td>10</td>\n",
       "      <td>0</td>\n",
       "      <td>2</td>\n",
       "      <td>0</td>\n",
       "      <td>1</td>\n",
       "      <td>14</td>\n",
       "      <td>5</td>\n",
       "    </tr>\n",
       "    <tr>\n",
       "      <th>2</th>\n",
       "      <td>0</td>\n",
       "      <td>0</td>\n",
       "      <td>10</td>\n",
       "      <td>0</td>\n",
       "      <td>2</td>\n",
       "      <td>0</td>\n",
       "      <td>12</td>\n",
       "      <td>0</td>\n",
       "      <td>0</td>\n",
       "    </tr>\n",
       "    <tr>\n",
       "      <th>3</th>\n",
       "      <td>0</td>\n",
       "      <td>0</td>\n",
       "      <td>10</td>\n",
       "      <td>0</td>\n",
       "      <td>2</td>\n",
       "      <td>0</td>\n",
       "      <td>12</td>\n",
       "      <td>5</td>\n",
       "      <td>0</td>\n",
       "    </tr>\n",
       "    <tr>\n",
       "      <th>4</th>\n",
       "      <td>1</td>\n",
       "      <td>6</td>\n",
       "      <td>16</td>\n",
       "      <td>2</td>\n",
       "      <td>4</td>\n",
       "      <td>0</td>\n",
       "      <td>8</td>\n",
       "      <td>0</td>\n",
       "      <td>0</td>\n",
       "    </tr>\n",
       "    <tr>\n",
       "      <th>...</th>\n",
       "      <td>...</td>\n",
       "      <td>...</td>\n",
       "      <td>...</td>\n",
       "      <td>...</td>\n",
       "      <td>...</td>\n",
       "      <td>...</td>\n",
       "      <td>...</td>\n",
       "      <td>...</td>\n",
       "      <td>...</td>\n",
       "    </tr>\n",
       "    <tr>\n",
       "      <th>550063</th>\n",
       "      <td>1</td>\n",
       "      <td>5</td>\n",
       "      <td>13</td>\n",
       "      <td>1</td>\n",
       "      <td>1</td>\n",
       "      <td>1</td>\n",
       "      <td>20</td>\n",
       "      <td>0</td>\n",
       "      <td>0</td>\n",
       "    </tr>\n",
       "    <tr>\n",
       "      <th>550064</th>\n",
       "      <td>0</td>\n",
       "      <td>2</td>\n",
       "      <td>1</td>\n",
       "      <td>2</td>\n",
       "      <td>3</td>\n",
       "      <td>0</td>\n",
       "      <td>20</td>\n",
       "      <td>0</td>\n",
       "      <td>0</td>\n",
       "    </tr>\n",
       "    <tr>\n",
       "      <th>550065</th>\n",
       "      <td>0</td>\n",
       "      <td>2</td>\n",
       "      <td>15</td>\n",
       "      <td>1</td>\n",
       "      <td>4</td>\n",
       "      <td>1</td>\n",
       "      <td>20</td>\n",
       "      <td>0</td>\n",
       "      <td>0</td>\n",
       "    </tr>\n",
       "    <tr>\n",
       "      <th>550066</th>\n",
       "      <td>0</td>\n",
       "      <td>6</td>\n",
       "      <td>1</td>\n",
       "      <td>2</td>\n",
       "      <td>2</td>\n",
       "      <td>0</td>\n",
       "      <td>20</td>\n",
       "      <td>0</td>\n",
       "      <td>0</td>\n",
       "    </tr>\n",
       "    <tr>\n",
       "      <th>550067</th>\n",
       "      <td>0</td>\n",
       "      <td>4</td>\n",
       "      <td>0</td>\n",
       "      <td>1</td>\n",
       "      <td>4</td>\n",
       "      <td>1</td>\n",
       "      <td>20</td>\n",
       "      <td>0</td>\n",
       "      <td>0</td>\n",
       "    </tr>\n",
       "  </tbody>\n",
       "</table>\n",
       "<p>550068 rows × 9 columns</p>\n",
       "</div>"
      ],
      "text/plain": [
       "        Gender  Age  Occupation  City_Category  Stay_In_Current_City_Years  \\\n",
       "0            0    0          10              0                           2   \n",
       "1            0    0          10              0                           2   \n",
       "2            0    0          10              0                           2   \n",
       "3            0    0          10              0                           2   \n",
       "4            1    6          16              2                           4   \n",
       "...        ...  ...         ...            ...                         ...   \n",
       "550063       1    5          13              1                           1   \n",
       "550064       0    2           1              2                           3   \n",
       "550065       0    2          15              1                           4   \n",
       "550066       0    6           1              2                           2   \n",
       "550067       0    4           0              1                           4   \n",
       "\n",
       "        Marital_Status  Product_Category_1  Product_Category_2  \\\n",
       "0                    0                   3                   0   \n",
       "1                    0                   1                  14   \n",
       "2                    0                  12                   0   \n",
       "3                    0                  12                   5   \n",
       "4                    0                   8                   0   \n",
       "...                ...                 ...                 ...   \n",
       "550063               1                  20                   0   \n",
       "550064               0                  20                   0   \n",
       "550065               1                  20                   0   \n",
       "550066               0                  20                   0   \n",
       "550067               1                  20                   0   \n",
       "\n",
       "        Product_Category_3  \n",
       "0                        0  \n",
       "1                        5  \n",
       "2                        0  \n",
       "3                        0  \n",
       "4                        0  \n",
       "...                    ...  \n",
       "550063                   0  \n",
       "550064                   0  \n",
       "550065                   0  \n",
       "550066                   0  \n",
       "550067                   0  \n",
       "\n",
       "[550068 rows x 9 columns]"
      ]
     },
     "execution_count": 74,
     "metadata": {},
     "output_type": "execute_result"
    }
   ],
   "source": [
    "X"
   ]
  },
  {
   "cell_type": "code",
   "execution_count": 75,
   "id": "73684535",
   "metadata": {},
   "outputs": [],
   "source": [
    "for column in bftest_df.columns:\n",
    "    if bftest_df[column].dtype == 'object':\n",
    "        bftest_df[column] = X[column].astype(str)\n",
    "        label_encoder = LabelEncoder()\n",
    "        bftest_df[column] = label_encoder.fit_transform(bftest_df[column])"
   ]
  },
  {
   "cell_type": "code",
   "execution_count": 76,
   "id": "7ce3c659",
   "metadata": {},
   "outputs": [
    {
     "data": {
      "text/html": [
       "<div>\n",
       "<style scoped>\n",
       "    .dataframe tbody tr th:only-of-type {\n",
       "        vertical-align: middle;\n",
       "    }\n",
       "\n",
       "    .dataframe tbody tr th {\n",
       "        vertical-align: top;\n",
       "    }\n",
       "\n",
       "    .dataframe thead th {\n",
       "        text-align: right;\n",
       "    }\n",
       "</style>\n",
       "<table border=\"1\" class=\"dataframe\">\n",
       "  <thead>\n",
       "    <tr style=\"text-align: right;\">\n",
       "      <th></th>\n",
       "      <th>Gender</th>\n",
       "      <th>Age</th>\n",
       "      <th>Occupation</th>\n",
       "      <th>City_Category</th>\n",
       "      <th>Stay_In_Current_City_Years</th>\n",
       "      <th>Marital_Status</th>\n",
       "      <th>Product_Category_1</th>\n",
       "      <th>Product_Category_2</th>\n",
       "      <th>Product_Category_3</th>\n",
       "    </tr>\n",
       "  </thead>\n",
       "  <tbody>\n",
       "    <tr>\n",
       "      <th>0</th>\n",
       "      <td>0</td>\n",
       "      <td>0</td>\n",
       "      <td>7</td>\n",
       "      <td>0</td>\n",
       "      <td>2</td>\n",
       "      <td>1</td>\n",
       "      <td>1</td>\n",
       "      <td>0</td>\n",
       "      <td>0</td>\n",
       "    </tr>\n",
       "    <tr>\n",
       "      <th>1</th>\n",
       "      <td>0</td>\n",
       "      <td>0</td>\n",
       "      <td>17</td>\n",
       "      <td>0</td>\n",
       "      <td>2</td>\n",
       "      <td>0</td>\n",
       "      <td>3</td>\n",
       "      <td>6</td>\n",
       "      <td>11</td>\n",
       "    </tr>\n",
       "    <tr>\n",
       "      <th>2</th>\n",
       "      <td>0</td>\n",
       "      <td>0</td>\n",
       "      <td>1</td>\n",
       "      <td>0</td>\n",
       "      <td>2</td>\n",
       "      <td>1</td>\n",
       "      <td>5</td>\n",
       "      <td>0</td>\n",
       "      <td>0</td>\n",
       "    </tr>\n",
       "    <tr>\n",
       "      <th>3</th>\n",
       "      <td>0</td>\n",
       "      <td>0</td>\n",
       "      <td>1</td>\n",
       "      <td>0</td>\n",
       "      <td>2</td>\n",
       "      <td>1</td>\n",
       "      <td>4</td>\n",
       "      <td>13</td>\n",
       "      <td>0</td>\n",
       "    </tr>\n",
       "    <tr>\n",
       "      <th>4</th>\n",
       "      <td>1</td>\n",
       "      <td>6</td>\n",
       "      <td>1</td>\n",
       "      <td>2</td>\n",
       "      <td>4</td>\n",
       "      <td>0</td>\n",
       "      <td>4</td>\n",
       "      <td>0</td>\n",
       "      <td>0</td>\n",
       "    </tr>\n",
       "    <tr>\n",
       "      <th>...</th>\n",
       "      <td>...</td>\n",
       "      <td>...</td>\n",
       "      <td>...</td>\n",
       "      <td>...</td>\n",
       "      <td>...</td>\n",
       "      <td>...</td>\n",
       "      <td>...</td>\n",
       "      <td>...</td>\n",
       "      <td>...</td>\n",
       "    </tr>\n",
       "    <tr>\n",
       "      <th>233594</th>\n",
       "      <td>1</td>\n",
       "      <td>5</td>\n",
       "      <td>15</td>\n",
       "      <td>0</td>\n",
       "      <td>1</td>\n",
       "      <td>1</td>\n",
       "      <td>8</td>\n",
       "      <td>14</td>\n",
       "      <td>0</td>\n",
       "    </tr>\n",
       "    <tr>\n",
       "      <th>233595</th>\n",
       "      <td>1</td>\n",
       "      <td>2</td>\n",
       "      <td>15</td>\n",
       "      <td>1</td>\n",
       "      <td>2</td>\n",
       "      <td>1</td>\n",
       "      <td>5</td>\n",
       "      <td>2</td>\n",
       "      <td>0</td>\n",
       "    </tr>\n",
       "    <tr>\n",
       "      <th>233596</th>\n",
       "      <td>1</td>\n",
       "      <td>2</td>\n",
       "      <td>15</td>\n",
       "      <td>1</td>\n",
       "      <td>2</td>\n",
       "      <td>1</td>\n",
       "      <td>1</td>\n",
       "      <td>14</td>\n",
       "      <td>13</td>\n",
       "    </tr>\n",
       "    <tr>\n",
       "      <th>233597</th>\n",
       "      <td>1</td>\n",
       "      <td>2</td>\n",
       "      <td>1</td>\n",
       "      <td>1</td>\n",
       "      <td>2</td>\n",
       "      <td>0</td>\n",
       "      <td>10</td>\n",
       "      <td>8</td>\n",
       "      <td>0</td>\n",
       "    </tr>\n",
       "    <tr>\n",
       "      <th>233598</th>\n",
       "      <td>1</td>\n",
       "      <td>2</td>\n",
       "      <td>0</td>\n",
       "      <td>1</td>\n",
       "      <td>2</td>\n",
       "      <td>1</td>\n",
       "      <td>4</td>\n",
       "      <td>0</td>\n",
       "      <td>0</td>\n",
       "    </tr>\n",
       "  </tbody>\n",
       "</table>\n",
       "<p>233599 rows × 9 columns</p>\n",
       "</div>"
      ],
      "text/plain": [
       "        Gender  Age  Occupation  City_Category  Stay_In_Current_City_Years  \\\n",
       "0            0    0           7              0                           2   \n",
       "1            0    0          17              0                           2   \n",
       "2            0    0           1              0                           2   \n",
       "3            0    0           1              0                           2   \n",
       "4            1    6           1              2                           4   \n",
       "...        ...  ...         ...            ...                         ...   \n",
       "233594       1    5          15              0                           1   \n",
       "233595       1    2          15              1                           2   \n",
       "233596       1    2          15              1                           2   \n",
       "233597       1    2           1              1                           2   \n",
       "233598       1    2           0              1                           2   \n",
       "\n",
       "        Marital_Status  Product_Category_1  Product_Category_2  \\\n",
       "0                    1                   1                   0   \n",
       "1                    0                   3                   6   \n",
       "2                    1                   5                   0   \n",
       "3                    1                   4                  13   \n",
       "4                    0                   4                   0   \n",
       "...                ...                 ...                 ...   \n",
       "233594               1                   8                  14   \n",
       "233595               1                   5                   2   \n",
       "233596               1                   1                  14   \n",
       "233597               0                  10                   8   \n",
       "233598               1                   4                   0   \n",
       "\n",
       "        Product_Category_3  \n",
       "0                        0  \n",
       "1                       11  \n",
       "2                        0  \n",
       "3                        0  \n",
       "4                        0  \n",
       "...                    ...  \n",
       "233594                   0  \n",
       "233595                   0  \n",
       "233596                  13  \n",
       "233597                   0  \n",
       "233598                   0  \n",
       "\n",
       "[233599 rows x 9 columns]"
      ]
     },
     "execution_count": 76,
     "metadata": {},
     "output_type": "execute_result"
    }
   ],
   "source": [
    "bftest_df"
   ]
  },
  {
   "cell_type": "markdown",
   "id": "e1204473",
   "metadata": {},
   "source": [
    "# Linear Regression"
   ]
  },
  {
   "cell_type": "code",
   "execution_count": 77,
   "id": "5932c322",
   "metadata": {},
   "outputs": [],
   "source": [
    "from sklearn.linear_model import LinearRegression"
   ]
  },
  {
   "cell_type": "code",
   "execution_count": 78,
   "id": "879dac78",
   "metadata": {},
   "outputs": [],
   "source": [
    "reg=LinearRegression()"
   ]
  },
  {
   "cell_type": "code",
   "execution_count": 79,
   "id": "b7d6dcbe",
   "metadata": {},
   "outputs": [],
   "source": [
    "regmodel=reg.fit(X,y)"
   ]
  },
  {
   "cell_type": "code",
   "execution_count": 80,
   "id": "2216e5c1",
   "metadata": {},
   "outputs": [
    {
     "data": {
      "text/plain": [
       "0.15114228563342946"
      ]
     },
     "execution_count": 80,
     "metadata": {},
     "output_type": "execute_result"
    }
   ],
   "source": [
    "regmodel.score(X,y)"
   ]
  },
  {
   "cell_type": "code",
   "execution_count": 81,
   "id": "d7b34ea5",
   "metadata": {},
   "outputs": [],
   "source": [
    "regpredict=regmodel.predict(X)"
   ]
  },
  {
   "cell_type": "code",
   "execution_count": 82,
   "id": "1aeb3ec7",
   "metadata": {},
   "outputs": [],
   "source": [
    "rigresid=y-regpredict"
   ]
  },
  {
   "cell_type": "code",
   "execution_count": 83,
   "id": "21969992",
   "metadata": {},
   "outputs": [
    {
     "data": {
      "text/plain": [
       "4627.920472560829"
      ]
     },
     "execution_count": 83,
     "metadata": {},
     "output_type": "execute_result"
    }
   ],
   "source": [
    "np.sqrt(np.mean(rigresid**2))"
   ]
  },
  {
   "cell_type": "code",
   "execution_count": 84,
   "id": "927c080d",
   "metadata": {},
   "outputs": [],
   "source": [
    "regtestpredict=regmodel.predict(bftest_df)"
   ]
  },
  {
   "cell_type": "code",
   "execution_count": 85,
   "id": "3d0c08a3",
   "metadata": {},
   "outputs": [],
   "source": [
    "pd.DataFrame(regtestpredict).to_csv('reg.csv')"
   ]
  },
  {
   "cell_type": "markdown",
   "id": "16e353ba",
   "metadata": {},
   "source": [
    "# Ridge Regression"
   ]
  },
  {
   "cell_type": "code",
   "execution_count": 86,
   "id": "41dfd87e",
   "metadata": {},
   "outputs": [],
   "source": [
    "from sklearn.linear_model import Ridge"
   ]
  },
  {
   "cell_type": "code",
   "execution_count": 87,
   "id": "254cd59c",
   "metadata": {},
   "outputs": [],
   "source": [
    "rid=Ridge()"
   ]
  },
  {
   "cell_type": "code",
   "execution_count": 88,
   "id": "b9d07203",
   "metadata": {},
   "outputs": [],
   "source": [
    "ridmodel=rid.fit(X,y)"
   ]
  },
  {
   "cell_type": "code",
   "execution_count": 89,
   "id": "59e95867",
   "metadata": {},
   "outputs": [
    {
     "data": {
      "text/plain": [
       "0.15114228563322885"
      ]
     },
     "execution_count": 89,
     "metadata": {},
     "output_type": "execute_result"
    }
   ],
   "source": [
    "ridmodel.score(X,y)"
   ]
  },
  {
   "cell_type": "code",
   "execution_count": 90,
   "id": "84e086c9",
   "metadata": {},
   "outputs": [],
   "source": [
    "ridpredict=ridmodel.predict(X)"
   ]
  },
  {
   "cell_type": "code",
   "execution_count": 91,
   "id": "064388ba",
   "metadata": {},
   "outputs": [],
   "source": [
    "ridresid=y-ridpredict"
   ]
  },
  {
   "cell_type": "code",
   "execution_count": 92,
   "id": "e8645b17",
   "metadata": {},
   "outputs": [
    {
     "data": {
      "text/plain": [
       "4627.920472561375"
      ]
     },
     "execution_count": 92,
     "metadata": {},
     "output_type": "execute_result"
    }
   ],
   "source": [
    "np.sqrt(np.mean(ridresid**2))"
   ]
  },
  {
   "cell_type": "code",
   "execution_count": 93,
   "id": "41e3cb6b",
   "metadata": {},
   "outputs": [],
   "source": [
    "ridtestpredict=ridmodel.predict(bftest_df)"
   ]
  },
  {
   "cell_type": "code",
   "execution_count": 94,
   "id": "89c20b1e",
   "metadata": {},
   "outputs": [],
   "source": [
    "pd.DataFrame(ridtestpredict).to_csv('ridge.csv')"
   ]
  },
  {
   "cell_type": "markdown",
   "id": "86e72942",
   "metadata": {},
   "source": [
    "# Lasso"
   ]
  },
  {
   "cell_type": "code",
   "execution_count": 95,
   "id": "e6ce4ef6",
   "metadata": {},
   "outputs": [],
   "source": [
    "from sklearn.linear_model import Lasso"
   ]
  },
  {
   "cell_type": "code",
   "execution_count": 96,
   "id": "f2a71e5b",
   "metadata": {},
   "outputs": [],
   "source": [
    "la=Lasso()"
   ]
  },
  {
   "cell_type": "code",
   "execution_count": 97,
   "id": "bdc8aa98",
   "metadata": {},
   "outputs": [],
   "source": [
    "lamodel=la.fit(X,y)"
   ]
  },
  {
   "cell_type": "code",
   "execution_count": 98,
   "id": "8c7e9d19",
   "metadata": {},
   "outputs": [
    {
     "data": {
      "text/plain": [
       "0.15114174576169326"
      ]
     },
     "execution_count": 98,
     "metadata": {},
     "output_type": "execute_result"
    }
   ],
   "source": [
    "lamodel.score(X,y)"
   ]
  },
  {
   "cell_type": "code",
   "execution_count": 99,
   "id": "de8f41bc",
   "metadata": {},
   "outputs": [],
   "source": [
    "lapredict=lamodel.predict(X)"
   ]
  },
  {
   "cell_type": "code",
   "execution_count": 100,
   "id": "5497420c",
   "metadata": {},
   "outputs": [],
   "source": [
    "laresid=y-lapredict"
   ]
  },
  {
   "cell_type": "code",
   "execution_count": 101,
   "id": "0659c05c",
   "metadata": {},
   "outputs": [
    {
     "data": {
      "text/plain": [
       "9467.394697853928"
      ]
     },
     "execution_count": 101,
     "metadata": {},
     "output_type": "execute_result"
    }
   ],
   "source": [
    "np.sqrt(np.mean(lapredict**2))"
   ]
  },
  {
   "cell_type": "code",
   "execution_count": 102,
   "id": "74b1b8d5",
   "metadata": {},
   "outputs": [],
   "source": [
    "latestpredict=lamodel.predict(bftest_df)"
   ]
  },
  {
   "cell_type": "code",
   "execution_count": 103,
   "id": "154183bd",
   "metadata": {},
   "outputs": [],
   "source": [
    "pd.DataFrame(latestpredict).to_csv('Lasso.csv')"
   ]
  },
  {
   "cell_type": "markdown",
   "id": "a0363a74",
   "metadata": {},
   "source": [
    "# Decession Tree"
   ]
  },
  {
   "cell_type": "code",
   "execution_count": 104,
   "id": "17785636",
   "metadata": {},
   "outputs": [],
   "source": [
    "from sklearn.tree import DecisionTreeRegressor"
   ]
  },
  {
   "cell_type": "code",
   "execution_count": 105,
   "id": "fc97392a",
   "metadata": {},
   "outputs": [],
   "source": [
    "tree=DecisionTreeRegressor()"
   ]
  },
  {
   "cell_type": "code",
   "execution_count": 106,
   "id": "6c094003",
   "metadata": {},
   "outputs": [],
   "source": [
    "treemodel=tree.fit(X,y)"
   ]
  },
  {
   "cell_type": "code",
   "execution_count": 107,
   "id": "75b248db",
   "metadata": {},
   "outputs": [
    {
     "data": {
      "text/plain": [
       "0.792011247799655"
      ]
     },
     "execution_count": 107,
     "metadata": {},
     "output_type": "execute_result"
    }
   ],
   "source": [
    "treemodel.score(X,y)"
   ]
  },
  {
   "cell_type": "code",
   "execution_count": 108,
   "id": "d5f4b831",
   "metadata": {},
   "outputs": [],
   "source": [
    "treepredict=treemodel.predict(X)"
   ]
  },
  {
   "cell_type": "code",
   "execution_count": 109,
   "id": "6201623f",
   "metadata": {},
   "outputs": [],
   "source": [
    "treeresid=y-treepredict"
   ]
  },
  {
   "cell_type": "code",
   "execution_count": 110,
   "id": "f39dc35c",
   "metadata": {},
   "outputs": [
    {
     "data": {
      "text/plain": [
       "2290.8062646412236"
      ]
     },
     "execution_count": 110,
     "metadata": {},
     "output_type": "execute_result"
    }
   ],
   "source": [
    "np.sqrt(np.mean(treeresid**2))"
   ]
  },
  {
   "cell_type": "code",
   "execution_count": 111,
   "id": "639da41c",
   "metadata": {
    "scrolled": true
   },
   "outputs": [],
   "source": [
    "treetestpred=treemodel.predict(bftest_df)"
   ]
  },
  {
   "cell_type": "code",
   "execution_count": 112,
   "id": "0d7d9147",
   "metadata": {},
   "outputs": [],
   "source": [
    "pd.DataFrame(treetestpred).to_csv(\"tree.csv\")"
   ]
  },
  {
   "cell_type": "markdown",
   "id": "151c828a",
   "metadata": {},
   "source": [
    "# Random Forest"
   ]
  },
  {
   "cell_type": "code",
   "execution_count": 113,
   "id": "944231f4",
   "metadata": {},
   "outputs": [],
   "source": [
    "from sklearn.ensemble import RandomForestRegressor"
   ]
  },
  {
   "cell_type": "code",
   "execution_count": 114,
   "id": "fbb12cb4",
   "metadata": {},
   "outputs": [],
   "source": [
    "RF=RandomForestRegressor(n_estimators=1000)"
   ]
  },
  {
   "cell_type": "code",
   "execution_count": null,
   "id": "f2b0cd5f",
   "metadata": {},
   "outputs": [],
   "source": [
    "RFmodel=RF.fit(X,y)"
   ]
  },
  {
   "cell_type": "code",
   "execution_count": null,
   "id": "effef0af",
   "metadata": {},
   "outputs": [],
   "source": [
    "RFmodel.score(X,y)"
   ]
  },
  {
   "cell_type": "code",
   "execution_count": null,
   "id": "c61e0c96",
   "metadata": {},
   "outputs": [],
   "source": [
    "rfpredict=RFmodel.predict(X)"
   ]
  },
  {
   "cell_type": "code",
   "execution_count": null,
   "id": "70a6d462",
   "metadata": {},
   "outputs": [],
   "source": [
    "rfresid=y-rfpredict"
   ]
  },
  {
   "cell_type": "code",
   "execution_count": null,
   "id": "c1c3c6e6",
   "metadata": {},
   "outputs": [],
   "source": [
    "np.sqrt(np.mean(rfresid**2))"
   ]
  },
  {
   "cell_type": "code",
   "execution_count": null,
   "id": "b6420dfc",
   "metadata": {},
   "outputs": [],
   "source": [
    "RFtestpredict=RFmodel.predict(bftest_df)"
   ]
  },
  {
   "cell_type": "code",
   "execution_count": null,
   "id": "3feaf88a",
   "metadata": {},
   "outputs": [],
   "source": [
    "pd.DataFrame(RFtestpredict).to_csv('RF.csv')"
   ]
  },
  {
   "cell_type": "markdown",
   "id": "7f57ee6c",
   "metadata": {},
   "source": [
    "# GBM"
   ]
  },
  {
   "cell_type": "code",
   "execution_count": null,
   "id": "ccc72ae1",
   "metadata": {},
   "outputs": [],
   "source": [
    "from sklearn.ensemble import GradientBoostingRegressor"
   ]
  },
  {
   "cell_type": "code",
   "execution_count": null,
   "id": "d69069de",
   "metadata": {},
   "outputs": [],
   "source": [
    "gbm=GradientBoostingRegressor(n_estimators=100,learning_rate=1)"
   ]
  },
  {
   "cell_type": "code",
   "execution_count": null,
   "id": "6979d799",
   "metadata": {},
   "outputs": [],
   "source": [
    "gbmmodel=gbm.fit(X,y)"
   ]
  },
  {
   "cell_type": "code",
   "execution_count": null,
   "id": "3b2eb089",
   "metadata": {},
   "outputs": [],
   "source": [
    "gbmmodel.score(X,y)"
   ]
  },
  {
   "cell_type": "code",
   "execution_count": null,
   "id": "f29c5c3e",
   "metadata": {},
   "outputs": [],
   "source": [
    "gbmpredict=gbmmodel.predict(X)"
   ]
  },
  {
   "cell_type": "code",
   "execution_count": null,
   "id": "ee018e98",
   "metadata": {},
   "outputs": [],
   "source": [
    "gbmresid=y-gbmpredict"
   ]
  },
  {
   "cell_type": "code",
   "execution_count": null,
   "id": "4233bf25",
   "metadata": {},
   "outputs": [],
   "source": [
    "np.sqrt(np.mean(gbmresid**2))"
   ]
  },
  {
   "cell_type": "code",
   "execution_count": null,
   "id": "39e48643",
   "metadata": {},
   "outputs": [],
   "source": [
    "GBMtestpredict=gbmmodel.predict(bftest_df)"
   ]
  },
  {
   "cell_type": "code",
   "execution_count": null,
   "id": "67a972f5",
   "metadata": {},
   "outputs": [],
   "source": [
    "pd.DataFrame(GBMtestpredict).to_csv('GBM.csv')"
   ]
  },
  {
   "cell_type": "markdown",
   "id": "56e7f515",
   "metadata": {},
   "source": [
    "# KNN regression"
   ]
  },
  {
   "cell_type": "code",
   "execution_count": null,
   "id": "b9387efc",
   "metadata": {},
   "outputs": [],
   "source": [
    "from sklearn.neighbors import KNeighborsRegressor"
   ]
  },
  {
   "cell_type": "code",
   "execution_count": null,
   "id": "d5db5204",
   "metadata": {},
   "outputs": [],
   "source": [
    "knn=KNeighborsRegressor(n_neighbors=5)"
   ]
  },
  {
   "cell_type": "code",
   "execution_count": null,
   "id": "8f376c96",
   "metadata": {},
   "outputs": [],
   "source": [
    "knnmodel=knn.fit(X,y)"
   ]
  },
  {
   "cell_type": "code",
   "execution_count": null,
   "id": "cf5708d6",
   "metadata": {},
   "outputs": [],
   "source": [
    "knnmodel.score(X,y)"
   ]
  },
  {
   "cell_type": "code",
   "execution_count": null,
   "id": "e70a2fc2",
   "metadata": {},
   "outputs": [],
   "source": [
    "knnpredict=knnmodel.predict(X)"
   ]
  },
  {
   "cell_type": "code",
   "execution_count": null,
   "id": "74f60763",
   "metadata": {},
   "outputs": [],
   "source": [
    "knnresid=y-knnpredict"
   ]
  },
  {
   "cell_type": "code",
   "execution_count": null,
   "id": "ae08dbc4",
   "metadata": {},
   "outputs": [],
   "source": [
    "np.sqrt(np.mean(knnresid**2))"
   ]
  },
  {
   "cell_type": "code",
   "execution_count": null,
   "id": "fc542cdc",
   "metadata": {},
   "outputs": [],
   "source": [
    "knntestpredict=knnmodel.predict(bftest_df)"
   ]
  },
  {
   "cell_type": "code",
   "execution_count": null,
   "id": "8d508fcc",
   "metadata": {},
   "outputs": [],
   "source": [
    "pd.DataFrame(knntestpredict).to_csv('knn.csv')"
   ]
  },
  {
   "cell_type": "markdown",
   "id": "f8291f55",
   "metadata": {},
   "source": [
    "# xgboost"
   ]
  },
  {
   "cell_type": "code",
   "execution_count": null,
   "id": "b3f7c086",
   "metadata": {},
   "outputs": [],
   "source": [
    "from xgboost import XGBRegressor"
   ]
  },
  {
   "cell_type": "code",
   "execution_count": null,
   "id": "60513c29",
   "metadata": {},
   "outputs": [],
   "source": [
    "#!pip install xgboost"
   ]
  },
  {
   "cell_type": "code",
   "execution_count": null,
   "id": "670e6105",
   "metadata": {},
   "outputs": [],
   "source": [
    "xbg=XGBRegressor(learning_rate=1,max_depth=6,min_child_weight=40,seed=0)"
   ]
  },
  {
   "cell_type": "code",
   "execution_count": null,
   "id": "3cd1e3e6",
   "metadata": {},
   "outputs": [],
   "source": [
    "xbgmodel=xbg.fit(X,y)"
   ]
  },
  {
   "cell_type": "code",
   "execution_count": null,
   "id": "cbbfe74c",
   "metadata": {},
   "outputs": [],
   "source": [
    "xbgmodel.score(X,y)"
   ]
  },
  {
   "cell_type": "code",
   "execution_count": null,
   "id": "3d64583f",
   "metadata": {},
   "outputs": [],
   "source": [
    "xbgpredict=xbgmodel.predict(X)"
   ]
  },
  {
   "cell_type": "code",
   "execution_count": null,
   "id": "5b8477a1",
   "metadata": {},
   "outputs": [],
   "source": [
    "xbgresid=y-xbgpredict"
   ]
  },
  {
   "cell_type": "code",
   "execution_count": null,
   "id": "ff25d0a1",
   "metadata": {},
   "outputs": [],
   "source": [
    "np.sqrt(np.mean(xbgresid**2))"
   ]
  },
  {
   "cell_type": "code",
   "execution_count": null,
   "id": "a6fd2b0a",
   "metadata": {},
   "outputs": [],
   "source": [
    "xbgtestpredict=xbgmodel.predict(bftest_df)"
   ]
  },
  {
   "cell_type": "code",
   "execution_count": null,
   "id": "4ab6a8e4",
   "metadata": {},
   "outputs": [],
   "source": [
    "pd.DataFrame(xbgtestpredict).to_csv('xbg.csv')"
   ]
  },
  {
   "cell_type": "markdown",
   "id": "3462353c",
   "metadata": {},
   "source": [
    "# lightgbm"
   ]
  },
  {
   "cell_type": "code",
   "execution_count": null,
   "id": "3ce464f7",
   "metadata": {},
   "outputs": [],
   "source": [
    "from lightgbm import LGBMRegressor"
   ]
  },
  {
   "cell_type": "code",
   "execution_count": null,
   "id": "c3aeb027",
   "metadata": {},
   "outputs": [],
   "source": [
    "#!pip install lightgbm"
   ]
  },
  {
   "cell_type": "code",
   "execution_count": null,
   "id": "05e0febe",
   "metadata": {},
   "outputs": [],
   "source": [
    "lgbm=LGBMRegressor()"
   ]
  },
  {
   "cell_type": "code",
   "execution_count": null,
   "id": "020b71dd",
   "metadata": {},
   "outputs": [],
   "source": [
    "lgbmmodel=lgbm.fit(X,y)"
   ]
  },
  {
   "cell_type": "code",
   "execution_count": null,
   "id": "8f0c8653",
   "metadata": {},
   "outputs": [],
   "source": [
    "lgbmmodel.score(X,y)"
   ]
  },
  {
   "cell_type": "code",
   "execution_count": null,
   "id": "f34a7d71",
   "metadata": {},
   "outputs": [],
   "source": [
    "lgbmpredict=lgbmmodel.predict(X)"
   ]
  },
  {
   "cell_type": "code",
   "execution_count": null,
   "id": "11d4b80e",
   "metadata": {},
   "outputs": [],
   "source": [
    "lgbmresid=y-lgbmpredict"
   ]
  },
  {
   "cell_type": "code",
   "execution_count": null,
   "id": "83051b59",
   "metadata": {},
   "outputs": [],
   "source": [
    "np.sqrt(np.mean(lgbmresid**2))"
   ]
  },
  {
   "cell_type": "code",
   "execution_count": null,
   "id": "201ea4de",
   "metadata": {},
   "outputs": [],
   "source": [
    "lgbmtestpredict=lgbmmodel.predict(bftest_df)"
   ]
  },
  {
   "cell_type": "code",
   "execution_count": null,
   "id": "9b7881af",
   "metadata": {},
   "outputs": [],
   "source": [
    "pd.DataFrame(lgbmtestpredict).to_csv('lgbm.csv')"
   ]
  },
  {
   "cell_type": "markdown",
   "id": "1150027f",
   "metadata": {},
   "source": [
    "# Summary"
   ]
  },
  {
   "cell_type": "markdown",
   "id": "0e77af32",
   "metadata": {},
   "source": [
    "Here is the summary of all the models built on the black friday dataset. The following table shows the metrics used to compare and select the best fit model.\n",
    "\n",
    "| Model | R_square Score | Accuracy Score|RMSE|\n",
    "|:------:|:--------------:|:-------------:|:------|\n",
    "|Linear Regression|0.15114228563342946|4867.12559083909|4627.920472560829|\n",
    "|Ridge Regression|0.15114228563322885|4867.12544729857|4627.920472561375|\n",
    "|Lasso Regression|0.15114174576169326|4866.85103082047|9467.394697853928|\n",
    "|Decision tree|0.792011247799655|4139.40539092241|2290.8062646412236|\n",
    "|**Random Forest**|**0.7831283066611664**|**3513.61247029982**|**2339.213558938**|\n",
    "|Gradient boosting machines|0.6636417806549322|3647.56411854937|2913.194354968578|\n",
    "|KNN regression|0.6933047390919168|4566.68773657365|2781.7748094101566|\n",
    "|XGBRegressor|0.6872586168564615|3491.49370422484|2809.060634329716|\n",
    "|LGBMRegressor|0.6653946377234622|3207.16454494605|2905.5937031150897|\n",
    "\n",
    "According to the performance metrics, the Random Forest model has the highest R-square score and accuracy among the models you've tested. Here's a summary of the models:\n",
    "\n",
    "Random Forest:\n",
    "R-square Score: 0.783\n",
    "Accuracy Score: 3513.61\n",
    "RMSE: 2339.21\n",
    "The Random Forest model shows a good balance between capturing the variance in the data and making accurate predictions. It often performs well in diverse scenarios and is less prone to overfitting compared to a single decision tree."
   ]
  },
  {
   "cell_type": "code",
   "execution_count": null,
   "id": "4ec6d207",
   "metadata": {},
   "outputs": [],
   "source": []
  }
 ],
 "metadata": {
  "kernelspec": {
   "display_name": "Python 3 (ipykernel)",
   "language": "python",
   "name": "python3"
  },
  "language_info": {
   "codemirror_mode": {
    "name": "ipython",
    "version": 3
   },
   "file_extension": ".py",
   "mimetype": "text/x-python",
   "name": "python",
   "nbconvert_exporter": "python",
   "pygments_lexer": "ipython3",
   "version": "3.10.9"
  }
 },
 "nbformat": 4,
 "nbformat_minor": 5
}
